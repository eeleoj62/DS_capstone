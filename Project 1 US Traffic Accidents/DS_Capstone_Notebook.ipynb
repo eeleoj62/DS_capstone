{
 "cells": [
  {
   "cell_type": "markdown",
   "metadata": {
    "id": "MO1GJ_-kbqCB"
   },
   "source": [
    "![Add a relevant banner image here](path_to_image)"
   ]
  },
  {
   "cell_type": "markdown",
   "metadata": {
    "id": "efdDK3eIbqCC"
   },
   "source": [
    "# **Flatiron Data Science Capstone Project 1: US Traffic Accidents**\n"
   ]
  },
  {
   "cell_type": "markdown",
   "metadata": {
    "id": "v6ge5WeibqCC"
   },
   "source": [
    "## Overview\n",
    "\n"
   ]
  },
  {
   "cell_type": "markdown",
   "metadata": {
    "id": "KyLQUFdUbqCC"
   },
   "source": [
    "## Business Understanding"
   ]
  },
  {
   "cell_type": "markdown",
   "metadata": {
    "id": "C5b80PSYbqCC"
   },
   "source": [
    "The US Department of Transportation (DOT) is concerned about the number of traffic accidents across the US and wants to develop strategies to reduce accidents and improve road safety.\n",
    "\n",
    "The US accidents dataset will be evaluated and analyzed to determine 3 data-driven insights that the DOT can utilize to reduce traaffic accidents and improve road safety.\n",
    "\n",
    "\n"
   ]
  },
  {
   "cell_type": "markdown",
   "metadata": {
    "id": "clc1XoCJbqCC"
   },
   "source": [
    "## Data Understanding\n",
    "\n",
    "Text here"
   ]
  },
  {
   "cell_type": "code",
   "execution_count": null,
   "metadata": {
    "colab": {
     "base_uri": "https://localhost:8080/"
    },
    "executionInfo": {
     "elapsed": 14751,
     "status": "ok",
     "timestamp": 1751868392582,
     "user": {
      "displayName": "Joseph Lee",
      "userId": "03614348732629050745"
     },
     "user_tz": 420
    },
    "id": "yDRt10wpcpz7",
    "outputId": "fbc84979-db04-4e82-9a4d-df6405dda52c"
   },
   "outputs": [
    {
     "name": "stdout",
     "output_type": "stream",
     "text": [
      "Mounted at /content/drive\n"
     ]
    }
   ],
   "source": [
    "# from google.colab import drive\n",
    "# drive.mount('/content/drive')"
   ]
  },
  {
   "cell_type": "code",
   "execution_count": 2,
   "metadata": {
    "executionInfo": {
     "elapsed": 1456,
     "status": "ok",
     "timestamp": 1751868402022,
     "user": {
      "displayName": "Joseph Lee",
      "userId": "03614348732629050745"
     },
     "user_tz": 420
    },
    "id": "f2YRw_gAbqCC"
   },
   "outputs": [],
   "source": [
    "# Load relevant imports here\n",
    "import pandas as pd\n",
    "import numpy as np\n",
    "import seaborn as sns\n",
    "import matplotlib.pyplot as plt\n",
    "import statsmodels as stats\n",
    "import scipy"
   ]
  },
  {
   "cell_type": "code",
   "execution_count": 3,
   "metadata": {
    "id": "O7y2MgDLbqCC"
   },
   "outputs": [],
   "source": [
    "# load data\n",
    "# df = pd.read_csv('/content/drive/MyDrive/US_Accidents_March23.csv')\n",
    "\n",
    "df = pd.read_csv(r\"C:\\Users\\jtlee\\OneDrive\\Documents\\Flatiron Schoolwork\\DS_11 Capstone\\Project 1 US Traffic Accidents\\US_Accidents_March23.csv\")"
   ]
  },
  {
   "cell_type": "markdown",
   "metadata": {
    "id": "jKrFXnZzbqCC"
   },
   "source": [
    "## Data Preparation\n",
    "Text here"
   ]
  },
  {
   "cell_type": "code",
   "execution_count": 15,
   "metadata": {
    "id": "lnPSQxcMbqCC"
   },
   "outputs": [
    {
     "name": "stdout",
     "output_type": "stream",
     "text": [
      "\n",
      "Shape of US accidents dataset: (7728394, 46)\n",
      "\n",
      "<class 'pandas.core.frame.DataFrame'>\n",
      "RangeIndex: 7728394 entries, 0 to 7728393\n",
      "Data columns (total 46 columns):\n",
      " #   Column                 Dtype  \n",
      "---  ------                 -----  \n",
      " 0   ID                     object \n",
      " 1   Source                 object \n",
      " 2   Severity               int64  \n",
      " 3   Start_Time             object \n",
      " 4   End_Time               object \n",
      " 5   Start_Lat              float64\n",
      " 6   Start_Lng              float64\n",
      " 7   End_Lat                float64\n",
      " 8   End_Lng                float64\n",
      " 9   Distance(mi)           float64\n",
      " 10  Description            object \n",
      " 11  Street                 object \n",
      " 12  City                   object \n",
      " 13  County                 object \n",
      " 14  State                  object \n",
      " 15  Zipcode                object \n",
      " 16  Country                object \n",
      " 17  Timezone               object \n",
      " 18  Airport_Code           object \n",
      " 19  Weather_Timestamp      object \n",
      " 20  Temperature(F)         float64\n",
      " 21  Wind_Chill(F)          float64\n",
      " 22  Humidity(%)            float64\n",
      " 23  Pressure(in)           float64\n",
      " 24  Visibility(mi)         float64\n",
      " 25  Wind_Direction         object \n",
      " 26  Wind_Speed(mph)        float64\n",
      " 27  Precipitation(in)      float64\n",
      " 28  Weather_Condition      object \n",
      " 29  Amenity                bool   \n",
      " 30  Bump                   bool   \n",
      " 31  Crossing               bool   \n",
      " 32  Give_Way               bool   \n",
      " 33  Junction               bool   \n",
      " 34  No_Exit                bool   \n",
      " 35  Railway                bool   \n",
      " 36  Roundabout             bool   \n",
      " 37  Station                bool   \n",
      " 38  Stop                   bool   \n",
      " 39  Traffic_Calming        bool   \n",
      " 40  Traffic_Signal         bool   \n",
      " 41  Turning_Loop           bool   \n",
      " 42  Sunrise_Sunset         object \n",
      " 43  Civil_Twilight         object \n",
      " 44  Nautical_Twilight      object \n",
      " 45  Astronomical_Twilight  object \n",
      "dtypes: bool(13), float64(12), int64(1), object(20)\n",
      "memory usage: 2.0+ GB\n",
      "    ID   Source  Severity           Start_Time             End_Time  \\\n",
      "0  A-1  Source2         3  2016-02-08 05:46:00  2016-02-08 11:00:00   \n",
      "1  A-2  Source2         2  2016-02-08 06:07:59  2016-02-08 06:37:59   \n",
      "2  A-3  Source2         2  2016-02-08 06:49:27  2016-02-08 07:19:27   \n",
      "3  A-4  Source2         3  2016-02-08 07:23:34  2016-02-08 07:53:34   \n",
      "4  A-5  Source2         2  2016-02-08 07:39:07  2016-02-08 08:09:07   \n",
      "\n",
      "   Start_Lat  Start_Lng  End_Lat  End_Lng  Distance(mi)  \\\n",
      "0  39.865147 -84.058723      NaN      NaN          0.01   \n",
      "1  39.928059 -82.831184      NaN      NaN          0.01   \n",
      "2  39.063148 -84.032608      NaN      NaN          0.01   \n",
      "3  39.747753 -84.205582      NaN      NaN          0.01   \n",
      "4  39.627781 -84.188354      NaN      NaN          0.01   \n",
      "\n",
      "                                         Description  \\\n",
      "0  Right lane blocked due to accident on I-70 Eas...   \n",
      "1  Accident on Brice Rd at Tussing Rd. Expect del...   \n",
      "2  Accident on OH-32 State Route 32 Westbound at ...   \n",
      "3  Accident on I-75 Southbound at Exits 52 52B US...   \n",
      "4  Accident on McEwen Rd at OH-725 Miamisburg Cen...   \n",
      "\n",
      "                      Street          City      County State     Zipcode  \\\n",
      "0                     I-70 E        Dayton  Montgomery    OH       45424   \n",
      "1                   Brice Rd  Reynoldsburg    Franklin    OH  43068-3402   \n",
      "2             State Route 32  Williamsburg    Clermont    OH       45176   \n",
      "3                     I-75 S        Dayton  Montgomery    OH       45417   \n",
      "4  Miamisburg Centerville Rd        Dayton  Montgomery    OH       45459   \n",
      "\n",
      "  Country    Timezone Airport_Code    Weather_Timestamp  Temperature(F)  \\\n",
      "0      US  US/Eastern         KFFO  2016-02-08 05:58:00            36.9   \n",
      "1      US  US/Eastern         KCMH  2016-02-08 05:51:00            37.9   \n",
      "2      US  US/Eastern         KI69  2016-02-08 06:56:00            36.0   \n",
      "3      US  US/Eastern         KDAY  2016-02-08 07:38:00            35.1   \n",
      "4      US  US/Eastern         KMGY  2016-02-08 07:53:00            36.0   \n",
      "\n",
      "   Wind_Chill(F)  Humidity(%)  Pressure(in)  Visibility(mi) Wind_Direction  \\\n",
      "0            NaN         91.0         29.68            10.0           Calm   \n",
      "1            NaN        100.0         29.65            10.0           Calm   \n",
      "2           33.3        100.0         29.67            10.0             SW   \n",
      "3           31.0         96.0         29.64             9.0             SW   \n",
      "4           33.3         89.0         29.65             6.0             SW   \n",
      "\n",
      "   Wind_Speed(mph)  Precipitation(in) Weather_Condition  Amenity   Bump  \\\n",
      "0              NaN               0.02        Light Rain    False  False   \n",
      "1              NaN               0.00        Light Rain    False  False   \n",
      "2              3.5                NaN          Overcast    False  False   \n",
      "3              4.6                NaN     Mostly Cloudy    False  False   \n",
      "4              3.5                NaN     Mostly Cloudy    False  False   \n",
      "\n",
      "   Crossing  Give_Way  Junction  No_Exit  Railway  Roundabout  Station   Stop  \\\n",
      "0     False     False     False    False    False       False    False  False   \n",
      "1     False     False     False    False    False       False    False  False   \n",
      "2     False     False     False    False    False       False    False  False   \n",
      "3     False     False     False    False    False       False    False  False   \n",
      "4     False     False     False    False    False       False    False  False   \n",
      "\n",
      "   Traffic_Calming  Traffic_Signal  Turning_Loop Sunrise_Sunset  \\\n",
      "0            False           False         False          Night   \n",
      "1            False           False         False          Night   \n",
      "2            False            True         False          Night   \n",
      "3            False           False         False          Night   \n",
      "4            False            True         False            Day   \n",
      "\n",
      "  Civil_Twilight Nautical_Twilight Astronomical_Twilight  \n",
      "0          Night             Night                 Night  \n",
      "1          Night             Night                   Day  \n",
      "2          Night               Day                   Day  \n",
      "3            Day               Day                   Day  \n",
      "4            Day               Day                   Day  \n"
     ]
    }
   ],
   "source": [
    "print(f\"\\nShape of US accidents dataset: {df.shape}\\n\")     # (rows, columns)\n",
    "\n",
    "df.info()  # DataFrame info\n",
    "\n",
    "print(df.head())"
   ]
  },
  {
   "cell_type": "code",
   "execution_count": 17,
   "metadata": {},
   "outputs": [
    {
     "name": "stdout",
     "output_type": "stream",
     "text": [
      "ID                             0\n",
      "Source                         0\n",
      "Severity                       0\n",
      "Start_Time                     0\n",
      "End_Time                       0\n",
      "Start_Lat                      0\n",
      "Start_Lng                      0\n",
      "End_Lat                  3402762\n",
      "End_Lng                  3402762\n",
      "Distance(mi)                   0\n",
      "Description                    5\n",
      "Street                     10869\n",
      "City                         253\n",
      "County                         0\n",
      "State                          0\n",
      "Zipcode                     1915\n",
      "Country                        0\n",
      "Timezone                    7808\n",
      "Airport_Code               22635\n",
      "Weather_Timestamp         120228\n",
      "Temperature(F)            163853\n",
      "Wind_Chill(F)            1999019\n",
      "Humidity(%)               174144\n",
      "Pressure(in)              140679\n",
      "Visibility(mi)            177098\n",
      "Wind_Direction            175206\n",
      "Wind_Speed(mph)           571233\n",
      "Precipitation(in)        2203586\n",
      "Weather_Condition         173459\n",
      "Amenity                        0\n",
      "Bump                           0\n",
      "Crossing                       0\n",
      "Give_Way                       0\n",
      "Junction                       0\n",
      "No_Exit                        0\n",
      "Railway                        0\n",
      "Roundabout                     0\n",
      "Station                        0\n",
      "Stop                           0\n",
      "Traffic_Calming                0\n",
      "Traffic_Signal                 0\n",
      "Turning_Loop                   0\n",
      "Sunrise_Sunset             23246\n",
      "Civil_Twilight             23246\n",
      "Nautical_Twilight          23246\n",
      "Astronomical_Twilight      23246\n",
      "dtype: int64\n"
     ]
    }
   ],
   "source": [
    "print(df.isnull().sum())"
   ]
  },
  {
   "cell_type": "markdown",
   "metadata": {
    "id": "NQBIXW0UbqCC"
   },
   "source": [
    "## Analysis\n",
    "\n",
    "Text here"
   ]
  },
  {
   "cell_type": "code",
   "execution_count": null,
   "metadata": {
    "id": "bz5RLgt2bqCC"
   },
   "outputs": [],
   "source": []
  },
  {
   "cell_type": "markdown",
   "metadata": {
    "id": "TZVNWNWMbqCD"
   },
   "source": [
    "## Evaluation\n",
    "\n",
    "### Business Insight/Recommendation 1"
   ]
  },
  {
   "cell_type": "code",
   "execution_count": null,
   "metadata": {
    "id": "h5tbWAotbqCD"
   },
   "outputs": [],
   "source": []
  },
  {
   "cell_type": "markdown",
   "metadata": {
    "id": "NuWM8ooibqCD"
   },
   "source": [
    "### Business Insight/Recommendation 2"
   ]
  },
  {
   "cell_type": "code",
   "execution_count": null,
   "metadata": {
    "id": "8o9pEkCJbqCD"
   },
   "outputs": [],
   "source": []
  },
  {
   "cell_type": "markdown",
   "metadata": {
    "id": "VwNpKS-GbqCD"
   },
   "source": [
    "### Business Insight/Recommendation 3"
   ]
  },
  {
   "cell_type": "code",
   "execution_count": null,
   "metadata": {
    "id": "YPcozzicbqCD"
   },
   "outputs": [],
   "source": []
  },
  {
   "cell_type": "markdown",
   "metadata": {
    "id": "J8uNU1wvbqCD"
   },
   "source": [
    "### Tableau Dashboard link"
   ]
  },
  {
   "cell_type": "markdown",
   "metadata": {
    "id": "p6iIwf-WbqCD"
   },
   "source": [
    "## Conclusion and Next Steps\n",
    "Text here"
   ]
  }
 ],
 "metadata": {
  "colab": {
   "machine_shape": "hm",
   "provenance": []
  },
  "kernelspec": {
   "display_name": "ds-env",
   "language": "python",
   "name": "python3"
  },
  "language_info": {
   "codemirror_mode": {
    "name": "ipython",
    "version": 3
   },
   "file_extension": ".py",
   "mimetype": "text/x-python",
   "name": "python",
   "nbconvert_exporter": "python",
   "pygments_lexer": "ipython3",
   "version": "3.10.18"
  }
 },
 "nbformat": 4,
 "nbformat_minor": 0
}
