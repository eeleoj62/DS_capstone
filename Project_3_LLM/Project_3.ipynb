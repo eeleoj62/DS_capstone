{
  "cells": [
    {
      "cell_type": "markdown",
      "metadata": {
        "colab_type": "text",
        "id": "view-in-github"
      },
      "source": [
        "<a href=\"https://colab.research.google.com/github/f1shstyxx/DS_capstone/blob/main/Project_3_LLM/Project_3.ipynb\" target=\"_parent\"><img src=\"https://colab.research.google.com/assets/colab-badge.svg\" alt=\"Open In Colab\"/></a>"
      ]
    },
    {
      "cell_type": "markdown",
      "metadata": {
        "id": "Xhn1JOvkRHvF"
      },
      "source": [
        "# Project 3 - Supervised Learning for Text Summarization"
      ]
    },
    {
      "cell_type": "markdown",
      "metadata": {
        "id": "8aSuR7fhRQIJ"
      },
      "source": [
        "## Business Understanding"
      ]
    },
    {
      "cell_type": "markdown",
      "metadata": {
        "id": "CSlpXrPRRUEa"
      },
      "source": [
        "### Background"
      ]
    },
    {
      "cell_type": "markdown",
      "metadata": {
        "id": "oRgx41lQRV9S"
      },
      "source": [
        "### Dataset Details"
      ]
    },
    {
      "cell_type": "markdown",
      "metadata": {
        "id": "NnNfsfZ7RZbG"
      },
      "source": [
        "### Project Goals"
      ]
    },
    {
      "cell_type": "markdown",
      "metadata": {
        "id": "KP-kvP28RcZH"
      },
      "source": [
        "### Project Considerations"
      ]
    },
    {
      "cell_type": "markdown",
      "metadata": {
        "id": "ocUv3H-WRfHh"
      },
      "source": [
        "## Data Understanding"
      ]
    },
    {
      "cell_type": "code",
      "execution_count": 29,
      "metadata": {
        "id": "ZDyPy2jEFkGF"
      },
      "outputs": [],
      "source": [
        "# import libraries\n",
        "import numpy as np\n",
        "import pandas as pd\n",
        "import matplotlib.pyplot as plt\n",
        "import seaborn as sns\n",
        "import random\n",
        "import os\n",
        "import time\n",
        "from sklearn.model_selection import train_test_split\n",
        "from sklearn.metrics import classification_report, confusion_matrix, \\\n",
        "  accuracy_score, ConfusionMatrixDisplay\n",
        "from transformers import BertTokenizer, EncoderDecoderModel, TrainingArguments,\\\n",
        "  Trainer, DataCollatorForSeq2Seq\n",
        "import transformers\n",
        "from transformers import EarlyStoppingCallback\n",
        "import mlflow\n",
        "import mlflow.transformers\n",
        "\n",
        "# set random seed for reproducibility\n",
        "def set_seed(seed_value=42):\n",
        "  random.seed(seed_value)\n",
        "  np.random.seed(seed_value)\n",
        "  os.environ['PYTHONHASHSEED'] = str(seed_value)\n",
        "\n",
        "set_seed()"
      ]
    },
    {
      "cell_type": "code",
      "execution_count": 2,
      "metadata": {
        "id": "xK4c48l7Ebnf"
      },
      "outputs": [],
      "source": [
        "# install hugging face\n",
        "# !pip install datasets"
      ]
    },
    {
      "cell_type": "code",
      "execution_count": 5,
      "metadata": {
        "colab": {
          "base_uri": "https://localhost:8080/"
        },
        "id": "Saw8v1huEsgn",
        "outputId": "34e10a17-fe60-4144-f2b9-c4d954238720"
      },
      "outputs": [
        {
          "name": "stdout",
          "output_type": "stream",
          "text": [
            "Dataset loaded in 0.02 minutes\n"
          ]
        }
      ],
      "source": [
        "# load samsum dataset\n",
        "from datasets import load_dataset\n",
        "\n",
        "start_time = time.time()\n",
        "\n",
        "dataset = load_dataset('knkarthick/samsum')\n",
        "\n",
        "end_time = time.time()\n",
        "print(f\"Dataset loaded in {(end_time - start_time)/60:.2f} minutes\")"
      ]
    },
    {
      "cell_type": "code",
      "execution_count": 6,
      "metadata": {
        "colab": {
          "base_uri": "https://localhost:8080/"
        },
        "id": "wSGnIl87E04x",
        "outputId": "bda782a5-5ebb-405c-b3cd-3fe73870bf15"
      },
      "outputs": [
        {
          "name": "stdout",
          "output_type": "stream",
          "text": [
            "DatasetDict({\n",
            "    train: Dataset({\n",
            "        features: ['id', 'dialogue', 'summary'],\n",
            "        num_rows: 14732\n",
            "    })\n",
            "    validation: Dataset({\n",
            "        features: ['id', 'dialogue', 'summary'],\n",
            "        num_rows: 818\n",
            "    })\n",
            "    test: Dataset({\n",
            "        features: ['id', 'dialogue', 'summary'],\n",
            "        num_rows: 819\n",
            "    })\n",
            "})\n"
          ]
        }
      ],
      "source": [
        "print(dataset)"
      ]
    },
    {
      "cell_type": "code",
      "execution_count": 7,
      "metadata": {
        "colab": {
          "base_uri": "https://localhost:8080/"
        },
        "id": "9T1qUJgoFAfu",
        "outputId": "a66ff04f-28c4-47fa-90b3-31f30e62af34"
      },
      "outputs": [
        {
          "name": "stdout",
          "output_type": "stream",
          "text": [
            "{'id': '13818513', 'dialogue': \"Amanda: I baked  cookies. Do you want some?\\nJerry: Sure!\\nAmanda: I'll bring you tomorrow :-)\", 'summary': 'Amanda baked cookies and will bring Jerry some tomorrow.'}\n"
          ]
        }
      ],
      "source": [
        "print(dataset['train'][0])"
      ]
    },
    {
      "cell_type": "code",
      "execution_count": 8,
      "metadata": {
        "colab": {
          "base_uri": "https://localhost:8080/"
        },
        "id": "7QGjNoW7FEyq",
        "outputId": "dcf4597b-aa49-4d7a-c6d9-d6de539d0295"
      },
      "outputs": [
        {
          "name": "stdout",
          "output_type": "stream",
          "text": [
            "         id                                           dialogue  \\\n",
            "0  13818513  Amanda: I baked  cookies. Do you want some?\\nJ...   \n",
            "1  13728867  Olivia: Who are you voting for in this electio...   \n",
            "2  13681000  Tim: Hi, what's up?\\nKim: Bad mood tbh, I was ...   \n",
            "3  13730747  Edward: Rachel, I think I'm in ove with Bella....   \n",
            "4  13728094  Sam: hey  overheard rick say something\\nSam: i...   \n",
            "\n",
            "                                             summary  \n",
            "0  Amanda baked cookies and will bring Jerry some...  \n",
            "1  Olivia and Olivier are voting for liberals in ...  \n",
            "2  Kim may try the pomodoro technique recommended...  \n",
            "3  Edward thinks he is in love with Bella. Rachel...  \n",
            "4  Sam is confused, because he overheard Rick com...  \n",
            "         id                                           dialogue  \\\n",
            "0  13817023  A: Hi Tom, are you busy tomorrow’s afternoon?\\...   \n",
            "1  13716628  Emma: I’ve just fallen in love with this adven...   \n",
            "2  13829420  Jackie: Madison is pregnant\\nJackie: but she d...   \n",
            "3  13819648  Marla: <file_photo>\\nMarla: look what I found ...   \n",
            "4  13728448  Robert: Hey give me the address of this music ...   \n",
            "\n",
            "                                             summary  \n",
            "0  A will go to the animal shelter tomorrow to ge...  \n",
            "1  Emma and Rob love the advent calendar. Lauren ...  \n",
            "2  Madison is pregnant but she doesn't want to ta...  \n",
            "3        Marla found a pair of boxers under her bed.  \n",
            "4  Robert wants Fred to send him the address of t...  \n",
            "         id                                           dialogue  \\\n",
            "0  13862856  Hannah: Hey, do you have Betty's number?\\nAman...   \n",
            "1  13729565  Eric: MACHINE!\\nRob: That's so gr8!\\nEric: I k...   \n",
            "2  13680171  Lenny: Babe, can you help me with something?\\n...   \n",
            "3  13729438  Will: hey babe, what do you want for dinner to...   \n",
            "4  13828600  Ollie: Hi , are you in Warsaw\\nJane: yes, just...   \n",
            "\n",
            "                                             summary  \n",
            "0  Hannah needs Betty's number but Amanda doesn't...  \n",
            "1  Eric and Rob are going to watch a stand-up on ...  \n",
            "2  Lenny can't decide which trousers to buy. Bob ...  \n",
            "3  Emma will be home soon and she will let Will k...  \n",
            "4  Jane is in Warsaw. Ollie and Jane has a party....  \n"
          ]
        }
      ],
      "source": [
        "# convert train, validation and test datasets to dataframes for EDA\n",
        "# pandas dfs are better for quick exploration than Hugging Face datasets\n",
        "# hugging face dataset objects are good for modeling, but less flexible for:\n",
        "# describe(), filtering, plotting, sample inspection\n",
        "\n",
        "df_train = pd.DataFrame(dataset['train'])\n",
        "print(df_train.head())\n",
        "\n",
        "df_val = pd.DataFrame(dataset['validation'])\n",
        "print(df_val.head())\n",
        "\n",
        "df_test = pd.DataFrame(dataset['test'])\n",
        "print(df_test.head())"
      ]
    },
    {
      "cell_type": "markdown",
      "metadata": {
        "id": "OGSTKOAQTOOP"
      },
      "source": [
        "### Text Exploration\n",
        "Analyze the characteristics of the dialogues and summaries"
      ]
    },
    {
      "cell_type": "code",
      "execution_count": 9,
      "metadata": {
        "colab": {
          "base_uri": "https://localhost:8080/"
        },
        "id": "AuJvmskFUkRr",
        "outputId": "8c84fbb8-6065-494c-cdc5-a57d7e5127bb"
      },
      "outputs": [
        {
          "name": "stdout",
          "output_type": "stream",
          "text": [
            "<class 'pandas.core.frame.DataFrame'>\n",
            "RangeIndex: 14732 entries, 0 to 14731\n",
            "Data columns (total 3 columns):\n",
            " #   Column    Non-Null Count  Dtype \n",
            "---  ------    --------------  ----- \n",
            " 0   id        14732 non-null  object\n",
            " 1   dialogue  14731 non-null  object\n",
            " 2   summary   14732 non-null  object\n",
            "dtypes: object(3)\n",
            "memory usage: 345.4+ KB\n",
            "None\n",
            "              id                                           dialogue  \\\n",
            "count      14732                                              14731   \n",
            "unique     14732                                              14255   \n",
            "top     13818513  Jimmy: Hey, guess what? My car's completely ka...   \n",
            "freq           1                                                  4   \n",
            "\n",
            "                                                  summary  \n",
            "count                                               14732  \n",
            "unique                                              14730  \n",
            "top     Seth's pet Oreo that he got when he was 10 is ...  \n",
            "freq                                                    2  \n"
          ]
        }
      ],
      "source": [
        "# train df basic info and describe\n",
        "print(df_train.info())\n",
        "print(df_train.describe())"
      ]
    },
    {
      "cell_type": "code",
      "execution_count": 10,
      "metadata": {
        "colab": {
          "base_uri": "https://localhost:8080/"
        },
        "id": "5xScGQdqU1_l",
        "outputId": "37d5ce8f-e23d-4be1-c62f-76be17e8b603"
      },
      "outputs": [
        {
          "name": "stdout",
          "output_type": "stream",
          "text": [
            "Length of train df: 14732\n"
          ]
        }
      ],
      "source": [
        "# length of train df\n",
        "print(f\"Length of train df: {len(df_train)}\")"
      ]
    },
    {
      "cell_type": "code",
      "execution_count": 11,
      "metadata": {
        "colab": {
          "base_uri": "https://localhost:8080/"
        },
        "id": "I_T1kwXUGQO0",
        "outputId": "d6f17d03-1528-48ad-c609-07ac42151778"
      },
      "outputs": [
        {
          "name": "stdout",
          "output_type": "stream",
          "text": [
            "\n",
            "Average dialogue length: 93.79 words\n",
            "\n",
            "Median dialogue length: 73.00 words\n",
            "\n",
            "Minimum dialogue length: 1 words\n",
            "\n",
            "Maximum dialogue length: 803 words\n"
          ]
        }
      ],
      "source": [
        "# text length analysis\n",
        "# analysis will include speaker names\n",
        "df_train['dialogue_length'] = df_train['dialogue'].apply(lambda x: len(str(x).split()))\n",
        "print(f\"\\nAverage dialogue length: {df_train['dialogue_length'].mean():.2f} words\")\n",
        "print(f\"\\nMedian dialogue length: {df_train['dialogue_length'].median():.2f} words\")\n",
        "print(f\"\\nMinimum dialogue length: {df_train['dialogue_length'].min()} words\")\n",
        "print(f\"\\nMaximum dialogue length: {df_train['dialogue_length'].max()} words\")"
      ]
    },
    {
      "cell_type": "code",
      "execution_count": 12,
      "metadata": {
        "colab": {
          "base_uri": "https://localhost:8080/"
        },
        "id": "0lPYaJY2c4TK",
        "outputId": "ffe5997e-7818-4e9c-9c78-7dcc2ba1b077"
      },
      "outputs": [
        {
          "name": "stdout",
          "output_type": "stream",
          "text": [
            "\n",
            "Average summary length: 20.32 words\n",
            "\n",
            "Median summary length: 18.00 words\n",
            "\n",
            "Minimum summary length: 1 words\n",
            "\n",
            "Maximum summary length: 64 words\n"
          ]
        }
      ],
      "source": [
        "df_train['summary_length'] = df_train['summary'].apply(lambda x: len(str(x).split()))\n",
        "print(f\"\\nAverage summary length: {df_train['summary_length'].mean():.2f} words\")\n",
        "print(f\"\\nMedian summary length: {df_train['summary_length'].median():.2f} words\")\n",
        "print(f\"\\nMinimum summary length: {df_train['summary_length'].min()} words\")\n",
        "print(f\"\\nMaximum summary length: {df_train['summary_length'].max()} words\")"
      ]
    },
    {
      "cell_type": "code",
      "execution_count": 13,
      "metadata": {
        "colab": {
          "base_uri": "https://localhost:8080/"
        },
        "id": "9d10VyGxTtj5",
        "outputId": "ffc8b56e-992b-4def-8204-4095c6b7011a"
      },
      "outputs": [
        {
          "name": "stdout",
          "output_type": "stream",
          "text": [
            "id                 0\n",
            "dialogue           1\n",
            "summary            0\n",
            "dialogue_length    0\n",
            "summary_length     0\n",
            "dtype: int64\n",
            "id          0\n",
            "dialogue    0\n",
            "summary     0\n",
            "dtype: int64\n",
            "id          0\n",
            "dialogue    0\n",
            "summary     0\n",
            "dtype: int64\n"
          ]
        }
      ],
      "source": [
        "# check for missing values\n",
        "print(df_train.isnull().sum())\n",
        "print(df_val.isnull().sum())\n",
        "print(df_test.isnull().sum())"
      ]
    },
    {
      "cell_type": "code",
      "execution_count": 14,
      "metadata": {
        "colab": {
          "base_uri": "https://localhost:8080/"
        },
        "id": "qNbMne5oVJgR",
        "outputId": "4ddd10cf-5316-4ac1-98fe-f243a369ef51"
      },
      "outputs": [
        {
          "name": "stdout",
          "output_type": "stream",
          "text": [
            "id                 0\n",
            "dialogue           0\n",
            "summary            0\n",
            "dialogue_length    0\n",
            "summary_length     0\n",
            "dtype: int64\n",
            "\n",
            "Length of train df: 14731\n"
          ]
        }
      ],
      "source": [
        "# drop row from df_train with missing value in dialogue column\n",
        "df_train = df_train.dropna(subset=['dialogue'])\n",
        "print(df_train.isnull().sum())\n",
        "print(f\"\\nLength of train df: {len(df_train)}\")"
      ]
    },
    {
      "cell_type": "code",
      "execution_count": 15,
      "metadata": {
        "colab": {
          "base_uri": "https://localhost:8080/",
          "height": 564
        },
        "id": "1XplI6u5ew2E",
        "outputId": "6d797d42-79ff-49ca-9366-1a9372731bc8"
      },
      "outputs": [
        {
          "data": {
            "image/png": "[encoded data removed]",
            "text/plain": [
              "<Figure size 1000x600 with 1 Axes>"
            ]
          },
          "metadata": {},
          "output_type": "display_data"
        }
      ],
      "source": [
        "# plot dialogue vs summary lengths\n",
        "plt.figure(figsize=(10, 6))\n",
        "plt.hist(df_train['dialogue_length'], bins=50, alpha=0.5, label='Dialogue Length')\n",
        "plt.hist(df_train['summary_length'], bins=50, alpha=0.5, label='Summary Length')\n",
        "plt.xlabel('Number of Words')\n",
        "plt.ylabel('Number of Samples')\n",
        "plt.title('Distribution of Dialogue and Summary Lengths')\n",
        "plt.legend()\n",
        "plt.show()"
      ]
    },
    {
      "cell_type": "code",
      "execution_count": 16,
      "metadata": {
        "colab": {
          "base_uri": "https://localhost:8080/",
          "height": 607
        },
        "id": "0pQqbYEnez5I",
        "outputId": "9f729811-9bed-4ff3-b4bf-06cd8ffd841f"
      },
      "outputs": [
        {
          "data": {
            "image/png": "[encoded data removed]",
            "text/plain": [
              "<Figure size 1000x600 with 1 Axes>"
            ]
          },
          "metadata": {},
          "output_type": "display_data"
        }
      ],
      "source": [
        "# plot dialogue, summary, and compression statistics\n",
        "df_train['compression'] = df_train['dialogue_length'] / df_train['summary_length']\n",
        "stats = df_train[['dialogue_length', 'summary_length', 'compression']].agg(['mean', 'median', 'min', 'max']).round(2).T\n",
        "\n",
        "# plot statistics\n",
        "stats.T.plot(kind='bar', figsize=(10,6))\n",
        "plt.title('Descriptive Statistics: Dialogue, Summary and Compression Ratio')\n",
        "plt.xlabel('Statistics')\n",
        "plt.ylabel('Value')\n",
        "plt.xticks(rotation=45)\n",
        "plt.legend(title='Metric')\n",
        "plt.tight_layout()\n",
        "plt.show()"
      ]
    },
    {
      "cell_type": "code",
      "execution_count": 17,
      "metadata": {
        "colab": {
          "base_uri": "https://localhost:8080/"
        },
        "id": "Rq2I9X3gYIfj",
        "outputId": "e17b57a9-9baf-4da9-a095-8ba4b9f3f632"
      },
      "outputs": [
        {
          "name": "stdout",
          "output_type": "stream",
          "text": [
            "\n",
            "Dialogue: Neville: Hi there, does anyone remember what date I got married on?\n",
            "Don: Are you serious?\n",
            "Neville: Dead serious. We're on vacation, and Tina's mad at me about something. I have a strange suspicion that this might have something to do with our wedding anniversary, but I have nowhere to check.\n",
            "Wyatt: Hang on, I'll ask my wife.\n",
            "Don: Haha, someone's in a lot of trouble :D\n",
            "Wyatt: September 17. I hope you remember the year ;)\n",
            "\n",
            "Summary: Wyatt reminds Neville his wedding anniversary is on the 17th of September. Neville's wife is upset and it might be because Neville forgot about their anniversary.\n",
            "\n",
            "Dialogue: Ann: Do you have plans for the holidays this year?\n",
            "Mary: Well we thought of going for a hike somewhere beautiful\n",
            "Mary: and you?\n",
            "Ann: We talked about it last night and we thought maybe you would like to do sth together?\n",
            "Mary: Why not\n",
            "Mary: just remember that we're outdoorsy people :D\n",
            "Ann: I know, but you're not even considering a nice beach somewhere?\n",
            "Mary: weeeeell, that's not really us, you know?\n",
            "Mary: we prefer tents and hiking boots to bikinis and sunscreen ;)\n",
            "Ann: I see.\n",
            "Ann: I'm not sure I'm ready for a longer hike but maybe we could go somewhere like that for a weekend so I can try it?\n",
            "Mary: That would be great!\n",
            "Mary: I'm sure you'll love it just like we do :)\n",
            "Ann: the idea of spending you time in the woods sure is romantic, but i'm not sure I'll remember that when bugs qill be eating me alive or sth\n",
            "Mary: Yeah, it's not for everyone :D\n",
            "Ann: Would like yo try though.\n",
            "Mary: There are a few great spots nearby\n",
            "Mary: Perfect for a weekend.\n",
            "Ann: Great, let me know and I'll talk to Henry.\n",
            "Mary: OK :)\n",
            "\n",
            "Summary: Mary, Ann and their partners will spend the weekend together hiking.\n"
          ]
        }
      ],
      "source": [
        "# examples of dialogue and summary\n",
        "print(f\"\\nDialogue: {df_train['dialogue'][5]}\")\n",
        "print(f\"\\nSummary: {df_train['summary'][5]}\")\n",
        "\n",
        "print(f\"\\nDialogue: {df_train['dialogue'][1000]}\")\n",
        "print(f\"\\nSummary: {df_train['summary'][1000]}\")"
      ]
    },
    {
      "cell_type": "markdown",
      "metadata": {
        "id": "EFIblUW7RoEW"
      },
      "source": [
        "## Data Preparation"
      ]
    },
    {
      "cell_type": "markdown",
      "metadata": {
        "id": "lEuaqBQViBnx"
      },
      "source": [
        "Prep data for input to BERT model\n",
        "* implement appropriate tokenization\n",
        "* create training and validation splits\n",
        "* build data loaders for efficient model training"
      ]
    },
    {
      "cell_type": "code",
      "execution_count": 18,
      "metadata": {
        "id": "_uTe2XWpRpBo"
      },
      "outputs": [],
      "source": [
        "# initialize tokenizer\n",
        "# converts input dialogue into token IDs for the encoder\n",
        "# converts target summary into token IDs for the decoder\n",
        "tokenizer = BertTokenizer.from_pretrained('bert-base-uncased')\n",
        "\n",
        "MAX_INPUT_LENGTH = 512\n",
        "MAX_TARGET_LENGTH = 64\n",
        "\n",
        "# define tokenize function\n",
        "def tokenize_function(batch):\n",
        "\n",
        "  # tokenize input dialogue\n",
        "  inputs = tokenizer(\n",
        "      batch['dialogue'],\n",
        "      padding='max_length',\n",
        "      truncation=True,\n",
        "      max_length = MAX_INPUT_LENGTH,\n",
        "  )\n",
        "\n",
        "  # tokenize target summary\n",
        "  with tokenizer.as_target_tokenizer():\n",
        "    labels = tokenizer(\n",
        "        batch['summary'],\n",
        "        padding='max_length',\n",
        "        truncation=True,\n",
        "        max_length=MAX_TARGET_LENGTH,\n",
        "  )\n",
        "\n",
        "  # attach labels to inputs\n",
        "  inputs['labels'] = labels['input_ids']\n",
        "  return inputs"
      ]
    },
    {
      "cell_type": "code",
      "execution_count": 19,
      "metadata": {
        "colab": {
          "base_uri": "https://localhost:8080/"
        },
        "id": "kPyKAX1s1_SS",
        "outputId": "179def5e-206c-4f62-bf3b-ebe2df5a3039"
      },
      "outputs": [
        {
          "name": "stdout",
          "output_type": "stream",
          "text": [
            "Tokenization time: 0.01 minutes\n"
          ]
        }
      ],
      "source": [
        "# tokenize train, validation, and test datasets\n",
        "\n",
        "start_time = time.time()\n",
        "\n",
        "# Remove examples with None in 'dialogue' or 'summary'\n",
        "dataset['train'] = dataset['train'].filter(lambda x: x['dialogue'] is not None and x['summary'] is not None)\n",
        "\n",
        "tokenized_train = dataset['train'].map(tokenize_function, batched=True)\n",
        "tokenized_val = dataset['validation'].map(tokenize_function, batched=True)\n",
        "tokenized_test = dataset['test'].map(tokenize_function, batched=True)\n",
        "\n",
        "end_time = time.time()\n",
        "print(f\"Tokenization time: {(end_time - start_time)/60:.2f} minutes\")\n",
        "\n",
        "# Tokenization time: 50 sec on 7/25/25"
      ]
    },
    {
      "cell_type": "code",
      "execution_count": 20,
      "metadata": {
        "colab": {
          "base_uri": "https://localhost:8080/"
        },
        "id": "nl32B8e66wuZ",
        "outputId": "bd05d1c3-55d0-4afe-f922-3598bab78e78"
      },
      "outputs": [
        {
          "name": "stderr",
          "output_type": "stream",
          "text": [
            "Some weights of the model checkpoint at patrickvonplaten/bert2bert-cnn_dailymail-fp16 were not used when initializing EncoderDecoderModel: ['decoder.bert.pooler.dense.bias', 'decoder.bert.pooler.dense.weight']\n",
            "- This IS expected if you are initializing EncoderDecoderModel from the checkpoint of a model trained on another task or with another architecture (e.g. initializing a BertForSequenceClassification model from a BertForPreTraining model).\n",
            "- This IS NOT expected if you are initializing EncoderDecoderModel from the checkpoint of a model that you expect to be exactly identical (initializing a BertForSequenceClassification model from a BertForSequenceClassification model).\n"
          ]
        }
      ],
      "source": [
        "# load a BERT2BERT pre-trained model (encoder-decoder)\n",
        "# use patrickvonplaten/bert2bert-cnn_dailymail-fp16 as a BERT2BERT model fine-tuned on CNN/DailyMail\n",
        "# encoder and decoder both use bert-case-uncased\n",
        "# bert-case-uncased is a commonly used pretrained BERT model from the original BERT paper\n",
        "\n",
        "model = EncoderDecoderModel.from_pretrained('patrickvonplaten/bert2bert-cnn_dailymail-fp16')"
      ]
    },
    {
      "cell_type": "code",
      "execution_count": 21,
      "metadata": {
        "id": "305-cNG5AID8"
      },
      "outputs": [],
      "source": [
        "# configure the model for the summarization task\n",
        "model.config.decoder_start_token_id = tokenizer.cls_token_id\n",
        "model.config.eos_token_id = tokenizer.sep_token_id\n",
        "model.config.pad_token_id = tokenizer.pad_token_id\n",
        "model.config.vocab_size = model.config.encoder.vocab_size"
      ]
    },
    {
      "cell_type": "markdown",
      "metadata": {
        "id": "IsaMdZU8RpyJ"
      },
      "source": [
        "## Modeling"
      ]
    },
    {
      "cell_type": "code",
      "execution_count": 36,
      "metadata": {
        "colab": {
          "base_uri": "https://localhost:8080/",
          "height": 211
        },
        "id": "p2GSq5HHRqxr",
        "outputId": "2f3e1436-19c6-43ab-bd63-38ade78e9389"
      },
      "outputs": [
        {
          "name": "stderr",
          "output_type": "stream",
          "text": [
            "C:\\Users\\jtlee\\AppData\\Local\\Temp\\ipykernel_15912\\1344069364.py:27: FutureWarning: `tokenizer` is deprecated and will be removed in version 5.0.0 for `Trainer.__init__`. Use `processing_class` instead.\n",
            "  trainer = Trainer(\n"
          ]
        }
      ],
      "source": [
        "# set up training arguments\n",
        "\n",
        "training_args = TrainingArguments(\n",
        "    output_dir=\"./bert2bert_samsum\",\n",
        "    save_steps=500,\n",
        "    save_total_limit=2,  # keep only the last 2 saved models\n",
        "    logging_steps=500,\n",
        "    do_train=True,\n",
        "    do_eval=True,\n",
        "    do_predict=True,\n",
        "    per_device_train_batch_size=4,\n",
        "    per_device_eval_batch_size=4,\n",
        "    num_train_epochs=5,\n",
        "    fp16=True,  # use mixed precision training\n",
        "    metric_for_best_model=\"eval_loss\",  # or \"rougeL\" if you're using ROUGE\n",
        "    greater_is_better=False,\n",
        "    report_to=\"tensorboard\",  # enables TensorBoard\n",
        "    learning_rate=5e-5,\n",
        "    lr_scheduler_type=\"linear\",  # or cosine, polynomial, constant\n",
        "    warmup_steps=500,\n",
        ")\n",
        "\n",
        "# 2. Data collator\n",
        "data_collator = DataCollatorForSeq2Seq(tokenizer, model=model)\n",
        "\n",
        "# 3. Trainer\n",
        "trainer = Trainer(\n",
        "    model=model,\n",
        "    args=training_args,\n",
        "    train_dataset=tokenized_train,\n",
        "    eval_dataset=tokenized_val,\n",
        "    tokenizer=tokenizer,\n",
        "    data_collator=data_collator,\n",
        ")"
      ]
    },
    {
      "cell_type": "code",
      "execution_count": null,
      "metadata": {},
      "outputs": [
        {
          "data": {
            "text/html": [
              "\n",
              "    <div>\n",
              "      \n",
              "      <progress value='18415' max='18415' style='width:300px; height:20px; vertical-align: middle;'></progress>\n",
              "      [18415/18415 1:11:14, Epoch 5/5]\n",
              "    </div>\n",
              "    <table border=\"1\" class=\"dataframe\">\n",
              "  <thead>\n",
              " <tr style=\"text-align: left;\">\n",
              "      <th>Step</th>\n",
              "      <th>Training Loss</th>\n",
              "    </tr>\n",
              "  </thead>\n",
              "  <tbody>\n",
              "    <tr>\n",
              "      <td>500</td>\n",
              "      <td>0.279600</td>\n",
              "    </tr>\n",
              "    <tr>\n",
              "      <td>1000</td>\n",
              "      <td>0.258900</td>\n",
              "    </tr>\n",
              "    <tr>\n",
              "      <td>1500</td>\n",
              "      <td>0.273200</td>\n",
              "    </tr>\n",
              "    <tr>\n",
              "      <td>2000</td>\n",
              "      <td>0.292900</td>\n",
              "    </tr>\n",
              "    <tr>\n",
              "      <td>2500</td>\n",
              "      <td>0.287900</td>\n",
              "    </tr>\n",
              "    <tr>\n",
              "      <td>3000</td>\n",
              "      <td>0.304600</td>\n",
              "    </tr>\n",
              "    <tr>\n",
              "      <td>3500</td>\n",
              "      <td>0.364800</td>\n",
              "    </tr>\n",
              "    <tr>\n",
              "      <td>4000</td>\n",
              "      <td>0.352200</td>\n",
              "    </tr>\n",
              "    <tr>\n",
              "      <td>4500</td>\n",
              "      <td>0.261700</td>\n",
              "    </tr>\n",
              "    <tr>\n",
              "      <td>5000</td>\n",
              "      <td>0.276800</td>\n",
              "    </tr>\n",
              "    <tr>\n",
              "      <td>5500</td>\n",
              "      <td>0.283300</td>\n",
              "    </tr>\n",
              "    <tr>\n",
              "      <td>6000</td>\n",
              "      <td>0.290800</td>\n",
              "    </tr>\n",
              "    <tr>\n",
              "      <td>6500</td>\n",
              "      <td>0.296200</td>\n",
              "    </tr>\n",
              "    <tr>\n",
              "      <td>7000</td>\n",
              "      <td>0.317600</td>\n",
              "    </tr>\n",
              "    <tr>\n",
              "      <td>7500</td>\n",
              "      <td>0.290600</td>\n",
              "    </tr>\n",
              "    <tr>\n",
              "      <td>8000</td>\n",
              "      <td>0.190500</td>\n",
              "    </tr>\n",
              "    <tr>\n",
              "      <td>8500</td>\n",
              "      <td>0.196800</td>\n",
              "    </tr>\n",
              "    <tr>\n",
              "      <td>9000</td>\n",
              "      <td>0.204200</td>\n",
              "    </tr>\n",
              "    <tr>\n",
              "      <td>9500</td>\n",
              "      <td>0.229100</td>\n",
              "    </tr>\n",
              "    <tr>\n",
              "      <td>10000</td>\n",
              "      <td>0.238700</td>\n",
              "    </tr>\n",
              "    <tr>\n",
              "      <td>10500</td>\n",
              "      <td>0.239500</td>\n",
              "    </tr>\n",
              "    <tr>\n",
              "      <td>11000</td>\n",
              "      <td>0.270700</td>\n",
              "    </tr>\n",
              "    <tr>\n",
              "      <td>11500</td>\n",
              "      <td>0.170800</td>\n",
              "    </tr>\n",
              "    <tr>\n",
              "      <td>12000</td>\n",
              "      <td>0.153000</td>\n",
              "    </tr>\n",
              "    <tr>\n",
              "      <td>12500</td>\n",
              "      <td>0.160200</td>\n",
              "    </tr>\n",
              "    <tr>\n",
              "      <td>13000</td>\n",
              "      <td>0.169500</td>\n",
              "    </tr>\n",
              "    <tr>\n",
              "      <td>13500</td>\n",
              "      <td>0.163300</td>\n",
              "    </tr>\n",
              "    <tr>\n",
              "      <td>14000</td>\n",
              "      <td>0.163200</td>\n",
              "    </tr>\n",
              "    <tr>\n",
              "      <td>14500</td>\n",
              "      <td>0.162300</td>\n",
              "    </tr>\n",
              "    <tr>\n",
              "      <td>15000</td>\n",
              "      <td>0.129700</td>\n",
              "    </tr>\n",
              "    <tr>\n",
              "      <td>15500</td>\n",
              "      <td>0.101800</td>\n",
              "    </tr>\n",
              "    <tr>\n",
              "      <td>16000</td>\n",
              "      <td>0.100900</td>\n",
              "    </tr>\n",
              "    <tr>\n",
              "      <td>16500</td>\n",
              "      <td>0.099100</td>\n",
              "    </tr>\n",
              "    <tr>\n",
              "      <td>17000</td>\n",
              "      <td>0.098900</td>\n",
              "    </tr>\n",
              "    <tr>\n",
              "      <td>17500</td>\n",
              "      <td>0.097600</td>\n",
              "    </tr>\n",
              "    <tr>\n",
              "      <td>18000</td>\n",
              "      <td>0.098600</td>\n",
              "    </tr>\n",
              "  </tbody>\n",
              "</table><p>"
            ],
            "text/plain": [
              "<IPython.core.display.HTML object>"
            ]
          },
          "metadata": {},
          "output_type": "display_data"
        },
        {
          "name": "stderr",
          "output_type": "stream",
          "text": [
            "c:\\Users\\jtlee\\anaconda3\\envs\\learn-env\\Lib\\site-packages\\torch\\nn\\modules\\module.py:1762: FutureWarning: `encoder_attention_mask` is deprecated and will be removed in version 4.55.0 for `BertSdpaSelfAttention.forward`.\n",
            "  return forward_call(*args, **kwargs)\n",
            "c:\\Users\\jtlee\\anaconda3\\envs\\learn-env\\Lib\\site-packages\\transformers\\models\\encoder_decoder\\modeling_encoder_decoder.py:577: FutureWarning: Version v4.12.0 introduces a better way to train encoder-decoder models by computing the loss inside the encoder-decoder framework rather than in the decoder itself. You may observe training discrepancies if fine-tuning a model trained with versions anterior to 4.12.0. The decoder_input_ids are now created based on the labels, no need to pass them yourself anymore.\n",
            "  warnings.warn(DEPRECATION_WARNING, FutureWarning)\n",
            "c:\\Users\\jtlee\\anaconda3\\envs\\learn-env\\Lib\\site-packages\\torch\\nn\\modules\\module.py:1762: FutureWarning: `encoder_attention_mask` is deprecated and will be removed in version 4.55.0 for `BertSdpaSelfAttention.forward`.\n",
            "  return forward_call(*args, **kwargs)\n",
            "c:\\Users\\jtlee\\anaconda3\\envs\\learn-env\\Lib\\site-packages\\transformers\\models\\encoder_decoder\\modeling_encoder_decoder.py:577: FutureWarning: Version v4.12.0 introduces a better way to train encoder-decoder models by computing the loss inside the encoder-decoder framework rather than in the decoder itself. You may observe training discrepancies if fine-tuning a model trained with versions anterior to 4.12.0. The decoder_input_ids are now created based on the labels, no need to pass them yourself anymore.\n",
            "  warnings.warn(DEPRECATION_WARNING, FutureWarning)\n",
            "c:\\Users\\jtlee\\anaconda3\\envs\\learn-env\\Lib\\site-packages\\torch\\nn\\modules\\module.py:1762: FutureWarning: `encoder_attention_mask` is deprecated and will be removed in version 4.55.0 for `BertSdpaSelfAttention.forward`.\n",
            "  return forward_call(*args, **kwargs)\n",
            "c:\\Users\\jtlee\\anaconda3\\envs\\learn-env\\Lib\\site-packages\\transformers\\models\\encoder_decoder\\modeling_encoder_decoder.py:577: FutureWarning: Version v4.12.0 introduces a better way to train encoder-decoder models by computing the loss inside the encoder-decoder framework rather than in the decoder itself. You may observe training discrepancies if fine-tuning a model trained with versions anterior to 4.12.0. The decoder_input_ids are now created based on the labels, no need to pass them yourself anymore.\n",
            "  warnings.warn(DEPRECATION_WARNING, FutureWarning)\n",
            "c:\\Users\\jtlee\\anaconda3\\envs\\learn-env\\Lib\\site-packages\\torch\\nn\\modules\\module.py:1762: FutureWarning: `encoder_attention_mask` is deprecated and will be removed in version 4.55.0 for `BertSdpaSelfAttention.forward`.\n",
            "  return forward_call(*args, **kwargs)\n",
            "c:\\Users\\jtlee\\anaconda3\\envs\\learn-env\\Lib\\site-packages\\transformers\\models\\encoder_decoder\\modeling_encoder_decoder.py:577: FutureWarning: Version v4.12.0 introduces a better way to train encoder-decoder models by computing the loss inside the encoder-decoder framework rather than in the decoder itself. You may observe training discrepancies if fine-tuning a model trained with versions anterior to 4.12.0. The decoder_input_ids are now created based on the labels, no need to pass them yourself anymore.\n",
            "  warnings.warn(DEPRECATION_WARNING, FutureWarning)\n",
            "c:\\Users\\jtlee\\anaconda3\\envs\\learn-env\\Lib\\site-packages\\torch\\nn\\modules\\module.py:1762: FutureWarning: `encoder_attention_mask` is deprecated and will be removed in version 4.55.0 for `BertSdpaSelfAttention.forward`.\n",
            "  return forward_call(*args, **kwargs)\n",
            "c:\\Users\\jtlee\\anaconda3\\envs\\learn-env\\Lib\\site-packages\\transformers\\models\\encoder_decoder\\modeling_encoder_decoder.py:577: FutureWarning: Version v4.12.0 introduces a better way to train encoder-decoder models by computing the loss inside the encoder-decoder framework rather than in the decoder itself. You may observe training discrepancies if fine-tuning a model trained with versions anterior to 4.12.0. The decoder_input_ids are now created based on the labels, no need to pass them yourself anymore.\n",
            "  warnings.warn(DEPRECATION_WARNING, FutureWarning)\n",
            "c:\\Users\\jtlee\\anaconda3\\envs\\learn-env\\Lib\\site-packages\\torch\\nn\\modules\\module.py:1762: FutureWarning: `encoder_attention_mask` is deprecated and will be removed in version 4.55.0 for `BertSdpaSelfAttention.forward`.\n",
            "  return forward_call(*args, **kwargs)\n",
            "c:\\Users\\jtlee\\anaconda3\\envs\\learn-env\\Lib\\site-packages\\transformers\\models\\encoder_decoder\\modeling_encoder_decoder.py:577: FutureWarning: Version v4.12.0 introduces a better way to train encoder-decoder models by computing the loss inside the encoder-decoder framework rather than in the decoder itself. You may observe training discrepancies if fine-tuning a model trained with versions anterior to 4.12.0. The decoder_input_ids are now created based on the labels, no need to pass them yourself anymore.\n",
            "  warnings.warn(DEPRECATION_WARNING, FutureWarning)\n",
            "c:\\Users\\jtlee\\anaconda3\\envs\\learn-env\\Lib\\site-packages\\torch\\nn\\modules\\module.py:1762: FutureWarning: `encoder_attention_mask` is deprecated and will be removed in version 4.55.0 for `BertSdpaSelfAttention.forward`.\n",
            "  return forward_call(*args, **kwargs)\n",
            "c:\\Users\\jtlee\\anaconda3\\envs\\learn-env\\Lib\\site-packages\\transformers\\models\\encoder_decoder\\modeling_encoder_decoder.py:577: FutureWarning: Version v4.12.0 introduces a better way to train encoder-decoder models by computing the loss inside the encoder-decoder framework rather than in the decoder itself. You may observe training discrepancies if fine-tuning a model trained with versions anterior to 4.12.0. The decoder_input_ids are now created based on the labels, no need to pass them yourself anymore.\n",
            "  warnings.warn(DEPRECATION_WARNING, FutureWarning)\n",
            "c:\\Users\\jtlee\\anaconda3\\envs\\learn-env\\Lib\\site-packages\\torch\\nn\\modules\\module.py:1762: FutureWarning: `encoder_attention_mask` is deprecated and will be removed in version 4.55.0 for `BertSdpaSelfAttention.forward`.\n",
            "  return forward_call(*args, **kwargs)\n",
            "c:\\Users\\jtlee\\anaconda3\\envs\\learn-env\\Lib\\site-packages\\transformers\\models\\encoder_decoder\\modeling_encoder_decoder.py:577: FutureWarning: Version v4.12.0 introduces a better way to train encoder-decoder models by computing the loss inside the encoder-decoder framework rather than in the decoder itself. You may observe training discrepancies if fine-tuning a model trained with versions anterior to 4.12.0. The decoder_input_ids are now created based on the labels, no need to pass them yourself anymore.\n",
            "  warnings.warn(DEPRECATION_WARNING, FutureWarning)\n",
            "c:\\Users\\jtlee\\anaconda3\\envs\\learn-env\\Lib\\site-packages\\torch\\nn\\modules\\module.py:1762: FutureWarning: `encoder_attention_mask` is deprecated and will be removed in version 4.55.0 for `BertSdpaSelfAttention.forward`.\n",
            "  return forward_call(*args, **kwargs)\n",
            "c:\\Users\\jtlee\\anaconda3\\envs\\learn-env\\Lib\\site-packages\\transformers\\models\\encoder_decoder\\modeling_encoder_decoder.py:577: FutureWarning: Version v4.12.0 introduces a better way to train encoder-decoder models by computing the loss inside the encoder-decoder framework rather than in the decoder itself. You may observe training discrepancies if fine-tuning a model trained with versions anterior to 4.12.0. The decoder_input_ids are now created based on the labels, no need to pass them yourself anymore.\n",
            "  warnings.warn(DEPRECATION_WARNING, FutureWarning)\n",
            "c:\\Users\\jtlee\\anaconda3\\envs\\learn-env\\Lib\\site-packages\\torch\\nn\\modules\\module.py:1762: FutureWarning: `encoder_attention_mask` is deprecated and will be removed in version 4.55.0 for `BertSdpaSelfAttention.forward`.\n",
            "  return forward_call(*args, **kwargs)\n",
            "c:\\Users\\jtlee\\anaconda3\\envs\\learn-env\\Lib\\site-packages\\transformers\\models\\encoder_decoder\\modeling_encoder_decoder.py:577: FutureWarning: Version v4.12.0 introduces a better way to train encoder-decoder models by computing the loss inside the encoder-decoder framework rather than in the decoder itself. You may observe training discrepancies if fine-tuning a model trained with versions anterior to 4.12.0. The decoder_input_ids are now created based on the labels, no need to pass them yourself anymore.\n",
            "  warnings.warn(DEPRECATION_WARNING, FutureWarning)\n",
            "c:\\Users\\jtlee\\anaconda3\\envs\\learn-env\\Lib\\site-packages\\torch\\nn\\modules\\module.py:1762: FutureWarning: `encoder_attention_mask` is deprecated and will be removed in version 4.55.0 for `BertSdpaSelfAttention.forward`.\n",
            "  return forward_call(*args, **kwargs)\n",
            "c:\\Users\\jtlee\\anaconda3\\envs\\learn-env\\Lib\\site-packages\\transformers\\models\\encoder_decoder\\modeling_encoder_decoder.py:577: FutureWarning: Version v4.12.0 introduces a better way to train encoder-decoder models by computing the loss inside the encoder-decoder framework rather than in the decoder itself. You may observe training discrepancies if fine-tuning a model trained with versions anterior to 4.12.0. The decoder_input_ids are now created based on the labels, no need to pass them yourself anymore.\n",
            "  warnings.warn(DEPRECATION_WARNING, FutureWarning)\n",
            "c:\\Users\\jtlee\\anaconda3\\envs\\learn-env\\Lib\\site-packages\\torch\\nn\\modules\\module.py:1762: FutureWarning: `encoder_attention_mask` is deprecated and will be removed in version 4.55.0 for `BertSdpaSelfAttention.forward`.\n",
            "  return forward_call(*args, **kwargs)\n",
            "c:\\Users\\jtlee\\anaconda3\\envs\\learn-env\\Lib\\site-packages\\transformers\\models\\encoder_decoder\\modeling_encoder_decoder.py:577: FutureWarning: Version v4.12.0 introduces a better way to train encoder-decoder models by computing the loss inside the encoder-decoder framework rather than in the decoder itself. You may observe training discrepancies if fine-tuning a model trained with versions anterior to 4.12.0. The decoder_input_ids are now created based on the labels, no need to pass them yourself anymore.\n",
            "  warnings.warn(DEPRECATION_WARNING, FutureWarning)\n",
            "c:\\Users\\jtlee\\anaconda3\\envs\\learn-env\\Lib\\site-packages\\torch\\nn\\modules\\module.py:1762: FutureWarning: `encoder_attention_mask` is deprecated and will be removed in version 4.55.0 for `BertSdpaSelfAttention.forward`.\n",
            "  return forward_call(*args, **kwargs)\n",
            "c:\\Users\\jtlee\\anaconda3\\envs\\learn-env\\Lib\\site-packages\\transformers\\models\\encoder_decoder\\modeling_encoder_decoder.py:577: FutureWarning: Version v4.12.0 introduces a better way to train encoder-decoder models by computing the loss inside the encoder-decoder framework rather than in the decoder itself. You may observe training discrepancies if fine-tuning a model trained with versions anterior to 4.12.0. The decoder_input_ids are now created based on the labels, no need to pass them yourself anymore.\n",
            "  warnings.warn(DEPRECATION_WARNING, FutureWarning)\n",
            "c:\\Users\\jtlee\\anaconda3\\envs\\learn-env\\Lib\\site-packages\\torch\\nn\\modules\\module.py:1762: FutureWarning: `encoder_attention_mask` is deprecated and will be removed in version 4.55.0 for `BertSdpaSelfAttention.forward`.\n",
            "  return forward_call(*args, **kwargs)\n",
            "c:\\Users\\jtlee\\anaconda3\\envs\\learn-env\\Lib\\site-packages\\transformers\\models\\encoder_decoder\\modeling_encoder_decoder.py:577: FutureWarning: Version v4.12.0 introduces a better way to train encoder-decoder models by computing the loss inside the encoder-decoder framework rather than in the decoder itself. You may observe training discrepancies if fine-tuning a model trained with versions anterior to 4.12.0. The decoder_input_ids are now created based on the labels, no need to pass them yourself anymore.\n",
            "  warnings.warn(DEPRECATION_WARNING, FutureWarning)\n",
            "c:\\Users\\jtlee\\anaconda3\\envs\\learn-env\\Lib\\site-packages\\torch\\nn\\modules\\module.py:1762: FutureWarning: `encoder_attention_mask` is deprecated and will be removed in version 4.55.0 for `BertSdpaSelfAttention.forward`.\n",
            "  return forward_call(*args, **kwargs)\n",
            "c:\\Users\\jtlee\\anaconda3\\envs\\learn-env\\Lib\\site-packages\\transformers\\models\\encoder_decoder\\modeling_encoder_decoder.py:577: FutureWarning: Version v4.12.0 introduces a better way to train encoder-decoder models by computing the loss inside the encoder-decoder framework rather than in the decoder itself. You may observe training discrepancies if fine-tuning a model trained with versions anterior to 4.12.0. The decoder_input_ids are now created based on the labels, no need to pass them yourself anymore.\n",
            "  warnings.warn(DEPRECATION_WARNING, FutureWarning)\n",
            "c:\\Users\\jtlee\\anaconda3\\envs\\learn-env\\Lib\\site-packages\\torch\\nn\\modules\\module.py:1762: FutureWarning: `encoder_attention_mask` is deprecated and will be removed in version 4.55.0 for `BertSdpaSelfAttention.forward`.\n",
            "  return forward_call(*args, **kwargs)\n",
            "c:\\Users\\jtlee\\anaconda3\\envs\\learn-env\\Lib\\site-packages\\transformers\\models\\encoder_decoder\\modeling_encoder_decoder.py:577: FutureWarning: Version v4.12.0 introduces a better way to train encoder-decoder models by computing the loss inside the encoder-decoder framework rather than in the decoder itself. You may observe training discrepancies if fine-tuning a model trained with versions anterior to 4.12.0. The decoder_input_ids are now created based on the labels, no need to pass them yourself anymore.\n",
            "  warnings.warn(DEPRECATION_WARNING, FutureWarning)\n",
            "c:\\Users\\jtlee\\anaconda3\\envs\\learn-env\\Lib\\site-packages\\torch\\nn\\modules\\module.py:1762: FutureWarning: `encoder_attention_mask` is deprecated and will be removed in version 4.55.0 for `BertSdpaSelfAttention.forward`.\n",
            "  return forward_call(*args, **kwargs)\n",
            "c:\\Users\\jtlee\\anaconda3\\envs\\learn-env\\Lib\\site-packages\\transformers\\models\\encoder_decoder\\modeling_encoder_decoder.py:577: FutureWarning: Version v4.12.0 introduces a better way to train encoder-decoder models by computing the loss inside the encoder-decoder framework rather than in the decoder itself. You may observe training discrepancies if fine-tuning a model trained with versions anterior to 4.12.0. The decoder_input_ids are now created based on the labels, no need to pass them yourself anymore.\n",
            "  warnings.warn(DEPRECATION_WARNING, FutureWarning)\n",
            "c:\\Users\\jtlee\\anaconda3\\envs\\learn-env\\Lib\\site-packages\\torch\\nn\\modules\\module.py:1762: FutureWarning: `encoder_attention_mask` is deprecated and will be removed in version 4.55.0 for `BertSdpaSelfAttention.forward`.\n",
            "  return forward_call(*args, **kwargs)\n",
            "c:\\Users\\jtlee\\anaconda3\\envs\\learn-env\\Lib\\site-packages\\transformers\\models\\encoder_decoder\\modeling_encoder_decoder.py:577: FutureWarning: Version v4.12.0 introduces a better way to train encoder-decoder models by computing the loss inside the encoder-decoder framework rather than in the decoder itself. You may observe training discrepancies if fine-tuning a model trained with versions anterior to 4.12.0. The decoder_input_ids are now created based on the labels, no need to pass them yourself anymore.\n",
            "  warnings.warn(DEPRECATION_WARNING, FutureWarning)\n",
            "c:\\Users\\jtlee\\anaconda3\\envs\\learn-env\\Lib\\site-packages\\torch\\nn\\modules\\module.py:1762: FutureWarning: `encoder_attention_mask` is deprecated and will be removed in version 4.55.0 for `BertSdpaSelfAttention.forward`.\n",
            "  return forward_call(*args, **kwargs)\n",
            "c:\\Users\\jtlee\\anaconda3\\envs\\learn-env\\Lib\\site-packages\\transformers\\models\\encoder_decoder\\modeling_encoder_decoder.py:577: FutureWarning: Version v4.12.0 introduces a better way to train encoder-decoder models by computing the loss inside the encoder-decoder framework rather than in the decoder itself. You may observe training discrepancies if fine-tuning a model trained with versions anterior to 4.12.0. The decoder_input_ids are now created based on the labels, no need to pass them yourself anymore.\n",
            "  warnings.warn(DEPRECATION_WARNING, FutureWarning)\n",
            "c:\\Users\\jtlee\\anaconda3\\envs\\learn-env\\Lib\\site-packages\\torch\\nn\\modules\\module.py:1762: FutureWarning: `encoder_attention_mask` is deprecated and will be removed in version 4.55.0 for `BertSdpaSelfAttention.forward`.\n",
            "  return forward_call(*args, **kwargs)\n",
            "c:\\Users\\jtlee\\anaconda3\\envs\\learn-env\\Lib\\site-packages\\transformers\\models\\encoder_decoder\\modeling_encoder_decoder.py:577: FutureWarning: Version v4.12.0 introduces a better way to train encoder-decoder models by computing the loss inside the encoder-decoder framework rather than in the decoder itself. You may observe training discrepancies if fine-tuning a model trained with versions anterior to 4.12.0. The decoder_input_ids are now created based on the labels, no need to pass them yourself anymore.\n",
            "  warnings.warn(DEPRECATION_WARNING, FutureWarning)\n",
            "c:\\Users\\jtlee\\anaconda3\\envs\\learn-env\\Lib\\site-packages\\torch\\nn\\modules\\module.py:1762: FutureWarning: `encoder_attention_mask` is deprecated and will be removed in version 4.55.0 for `BertSdpaSelfAttention.forward`.\n",
            "  return forward_call(*args, **kwargs)\n",
            "c:\\Users\\jtlee\\anaconda3\\envs\\learn-env\\Lib\\site-packages\\transformers\\models\\encoder_decoder\\modeling_encoder_decoder.py:577: FutureWarning: Version v4.12.0 introduces a better way to train encoder-decoder models by computing the loss inside the encoder-decoder framework rather than in the decoder itself. You may observe training discrepancies if fine-tuning a model trained with versions anterior to 4.12.0. The decoder_input_ids are now created based on the labels, no need to pass them yourself anymore.\n",
            "  warnings.warn(DEPRECATION_WARNING, FutureWarning)\n",
            "c:\\Users\\jtlee\\anaconda3\\envs\\learn-env\\Lib\\site-packages\\torch\\nn\\modules\\module.py:1762: FutureWarning: `encoder_attention_mask` is deprecated and will be removed in version 4.55.0 for `BertSdpaSelfAttention.forward`.\n",
            "  return forward_call(*args, **kwargs)\n",
            "c:\\Users\\jtlee\\anaconda3\\envs\\learn-env\\Lib\\site-packages\\transformers\\models\\encoder_decoder\\modeling_encoder_decoder.py:577: FutureWarning: Version v4.12.0 introduces a better way to train encoder-decoder models by computing the loss inside the encoder-decoder framework rather than in the decoder itself. You may observe training discrepancies if fine-tuning a model trained with versions anterior to 4.12.0. The decoder_input_ids are now created based on the labels, no need to pass them yourself anymore.\n",
            "  warnings.warn(DEPRECATION_WARNING, FutureWarning)\n",
            "c:\\Users\\jtlee\\anaconda3\\envs\\learn-env\\Lib\\site-packages\\torch\\nn\\modules\\module.py:1762: FutureWarning: `encoder_attention_mask` is deprecated and will be removed in version 4.55.0 for `BertSdpaSelfAttention.forward`.\n",
            "  return forward_call(*args, **kwargs)\n",
            "c:\\Users\\jtlee\\anaconda3\\envs\\learn-env\\Lib\\site-packages\\transformers\\models\\encoder_decoder\\modeling_encoder_decoder.py:577: FutureWarning: Version v4.12.0 introduces a better way to train encoder-decoder models by computing the loss inside the encoder-decoder framework rather than in the decoder itself. You may observe training discrepancies if fine-tuning a model trained with versions anterior to 4.12.0. The decoder_input_ids are now created based on the labels, no need to pass them yourself anymore.\n",
            "  warnings.warn(DEPRECATION_WARNING, FutureWarning)\n",
            "c:\\Users\\jtlee\\anaconda3\\envs\\learn-env\\Lib\\site-packages\\torch\\nn\\modules\\module.py:1762: FutureWarning: `encoder_attention_mask` is deprecated and will be removed in version 4.55.0 for `BertSdpaSelfAttention.forward`.\n",
            "  return forward_call(*args, **kwargs)\n",
            "c:\\Users\\jtlee\\anaconda3\\envs\\learn-env\\Lib\\site-packages\\transformers\\models\\encoder_decoder\\modeling_encoder_decoder.py:577: FutureWarning: Version v4.12.0 introduces a better way to train encoder-decoder models by computing the loss inside the encoder-decoder framework rather than in the decoder itself. You may observe training discrepancies if fine-tuning a model trained with versions anterior to 4.12.0. The decoder_input_ids are now created based on the labels, no need to pass them yourself anymore.\n",
            "  warnings.warn(DEPRECATION_WARNING, FutureWarning)\n",
            "c:\\Users\\jtlee\\anaconda3\\envs\\learn-env\\Lib\\site-packages\\torch\\nn\\modules\\module.py:1762: FutureWarning: `encoder_attention_mask` is deprecated and will be removed in version 4.55.0 for `BertSdpaSelfAttention.forward`.\n",
            "  return forward_call(*args, **kwargs)\n",
            "c:\\Users\\jtlee\\anaconda3\\envs\\learn-env\\Lib\\site-packages\\transformers\\models\\encoder_decoder\\modeling_encoder_decoder.py:577: FutureWarning: Version v4.12.0 introduces a better way to train encoder-decoder models by computing the loss inside the encoder-decoder framework rather than in the decoder itself. You may observe training discrepancies if fine-tuning a model trained with versions anterior to 4.12.0. The decoder_input_ids are now created based on the labels, no need to pass them yourself anymore.\n",
            "  warnings.warn(DEPRECATION_WARNING, FutureWarning)\n",
            "c:\\Users\\jtlee\\anaconda3\\envs\\learn-env\\Lib\\site-packages\\torch\\nn\\modules\\module.py:1762: FutureWarning: `encoder_attention_mask` is deprecated and will be removed in version 4.55.0 for `BertSdpaSelfAttention.forward`.\n",
            "  return forward_call(*args, **kwargs)\n",
            "c:\\Users\\jtlee\\anaconda3\\envs\\learn-env\\Lib\\site-packages\\transformers\\models\\encoder_decoder\\modeling_encoder_decoder.py:577: FutureWarning: Version v4.12.0 introduces a better way to train encoder-decoder models by computing the loss inside the encoder-decoder framework rather than in the decoder itself. You may observe training discrepancies if fine-tuning a model trained with versions anterior to 4.12.0. The decoder_input_ids are now created based on the labels, no need to pass them yourself anymore.\n",
            "  warnings.warn(DEPRECATION_WARNING, FutureWarning)\n",
            "c:\\Users\\jtlee\\anaconda3\\envs\\learn-env\\Lib\\site-packages\\torch\\nn\\modules\\module.py:1762: FutureWarning: `encoder_attention_mask` is deprecated and will be removed in version 4.55.0 for `BertSdpaSelfAttention.forward`.\n",
            "  return forward_call(*args, **kwargs)\n",
            "c:\\Users\\jtlee\\anaconda3\\envs\\learn-env\\Lib\\site-packages\\transformers\\models\\encoder_decoder\\modeling_encoder_decoder.py:577: FutureWarning: Version v4.12.0 introduces a better way to train encoder-decoder models by computing the loss inside the encoder-decoder framework rather than in the decoder itself. You may observe training discrepancies if fine-tuning a model trained with versions anterior to 4.12.0. The decoder_input_ids are now created based on the labels, no need to pass them yourself anymore.\n",
            "  warnings.warn(DEPRECATION_WARNING, FutureWarning)\n",
            "c:\\Users\\jtlee\\anaconda3\\envs\\learn-env\\Lib\\site-packages\\torch\\nn\\modules\\module.py:1762: FutureWarning: `encoder_attention_mask` is deprecated and will be removed in version 4.55.0 for `BertSdpaSelfAttention.forward`.\n",
            "  return forward_call(*args, **kwargs)\n",
            "c:\\Users\\jtlee\\anaconda3\\envs\\learn-env\\Lib\\site-packages\\transformers\\models\\encoder_decoder\\modeling_encoder_decoder.py:577: FutureWarning: Version v4.12.0 introduces a better way to train encoder-decoder models by computing the loss inside the encoder-decoder framework rather than in the decoder itself. You may observe training discrepancies if fine-tuning a model trained with versions anterior to 4.12.0. The decoder_input_ids are now created based on the labels, no need to pass them yourself anymore.\n",
            "  warnings.warn(DEPRECATION_WARNING, FutureWarning)\n",
            "c:\\Users\\jtlee\\anaconda3\\envs\\learn-env\\Lib\\site-packages\\torch\\nn\\modules\\module.py:1762: FutureWarning: `encoder_attention_mask` is deprecated and will be removed in version 4.55.0 for `BertSdpaSelfAttention.forward`.\n",
            "  return forward_call(*args, **kwargs)\n",
            "c:\\Users\\jtlee\\anaconda3\\envs\\learn-env\\Lib\\site-packages\\transformers\\models\\encoder_decoder\\modeling_encoder_decoder.py:577: FutureWarning: Version v4.12.0 introduces a better way to train encoder-decoder models by computing the loss inside the encoder-decoder framework rather than in the decoder itself. You may observe training discrepancies if fine-tuning a model trained with versions anterior to 4.12.0. The decoder_input_ids are now created based on the labels, no need to pass them yourself anymore.\n",
            "  warnings.warn(DEPRECATION_WARNING, FutureWarning)\n",
            "c:\\Users\\jtlee\\anaconda3\\envs\\learn-env\\Lib\\site-packages\\torch\\nn\\modules\\module.py:1762: FutureWarning: `encoder_attention_mask` is deprecated and will be removed in version 4.55.0 for `BertSdpaSelfAttention.forward`.\n",
            "  return forward_call(*args, **kwargs)\n",
            "c:\\Users\\jtlee\\anaconda3\\envs\\learn-env\\Lib\\site-packages\\transformers\\models\\encoder_decoder\\modeling_encoder_decoder.py:577: FutureWarning: Version v4.12.0 introduces a better way to train encoder-decoder models by computing the loss inside the encoder-decoder framework rather than in the decoder itself. You may observe training discrepancies if fine-tuning a model trained with versions anterior to 4.12.0. The decoder_input_ids are now created based on the labels, no need to pass them yourself anymore.\n",
            "  warnings.warn(DEPRECATION_WARNING, FutureWarning)\n",
            "c:\\Users\\jtlee\\anaconda3\\envs\\learn-env\\Lib\\site-packages\\torch\\nn\\modules\\module.py:1762: FutureWarning: `encoder_attention_mask` is deprecated and will be removed in version 4.55.0 for `BertSdpaSelfAttention.forward`.\n",
            "  return forward_call(*args, **kwargs)\n",
            "c:\\Users\\jtlee\\anaconda3\\envs\\learn-env\\Lib\\site-packages\\transformers\\models\\encoder_decoder\\modeling_encoder_decoder.py:577: FutureWarning: Version v4.12.0 introduces a better way to train encoder-decoder models by computing the loss inside the encoder-decoder framework rather than in the decoder itself. You may observe training discrepancies if fine-tuning a model trained with versions anterior to 4.12.0. The decoder_input_ids are now created based on the labels, no need to pass them yourself anymore.\n",
            "  warnings.warn(DEPRECATION_WARNING, FutureWarning)\n",
            "c:\\Users\\jtlee\\anaconda3\\envs\\learn-env\\Lib\\site-packages\\torch\\nn\\modules\\module.py:1762: FutureWarning: `encoder_attention_mask` is deprecated and will be removed in version 4.55.0 for `BertSdpaSelfAttention.forward`.\n",
            "  return forward_call(*args, **kwargs)\n",
            "c:\\Users\\jtlee\\anaconda3\\envs\\learn-env\\Lib\\site-packages\\transformers\\models\\encoder_decoder\\modeling_encoder_decoder.py:577: FutureWarning: Version v4.12.0 introduces a better way to train encoder-decoder models by computing the loss inside the encoder-decoder framework rather than in the decoder itself. You may observe training discrepancies if fine-tuning a model trained with versions anterior to 4.12.0. The decoder_input_ids are now created based on the labels, no need to pass them yourself anymore.\n",
            "  warnings.warn(DEPRECATION_WARNING, FutureWarning)\n",
            "c:\\Users\\jtlee\\anaconda3\\envs\\learn-env\\Lib\\site-packages\\torch\\nn\\modules\\module.py:1762: FutureWarning: `encoder_attention_mask` is deprecated and will be removed in version 4.55.0 for `BertSdpaSelfAttention.forward`.\n",
            "  return forward_call(*args, **kwargs)\n",
            "c:\\Users\\jtlee\\anaconda3\\envs\\learn-env\\Lib\\site-packages\\transformers\\models\\encoder_decoder\\modeling_encoder_decoder.py:577: FutureWarning: Version v4.12.0 introduces a better way to train encoder-decoder models by computing the loss inside the encoder-decoder framework rather than in the decoder itself. You may observe training discrepancies if fine-tuning a model trained with versions anterior to 4.12.0. The decoder_input_ids are now created based on the labels, no need to pass them yourself anymore.\n",
            "  warnings.warn(DEPRECATION_WARNING, FutureWarning)\n",
            "c:\\Users\\jtlee\\anaconda3\\envs\\learn-env\\Lib\\site-packages\\torch\\nn\\modules\\module.py:1762: FutureWarning: `encoder_attention_mask` is deprecated and will be removed in version 4.55.0 for `BertSdpaSelfAttention.forward`.\n",
            "  return forward_call(*args, **kwargs)\n",
            "c:\\Users\\jtlee\\anaconda3\\envs\\learn-env\\Lib\\site-packages\\transformers\\models\\encoder_decoder\\modeling_encoder_decoder.py:577: FutureWarning: Version v4.12.0 introduces a better way to train encoder-decoder models by computing the loss inside the encoder-decoder framework rather than in the decoder itself. You may observe training discrepancies if fine-tuning a model trained with versions anterior to 4.12.0. The decoder_input_ids are now created based on the labels, no need to pass them yourself anymore.\n",
            "  warnings.warn(DEPRECATION_WARNING, FutureWarning)\n",
            "c:\\Users\\jtlee\\anaconda3\\envs\\learn-env\\Lib\\site-packages\\torch\\nn\\modules\\module.py:1762: FutureWarning: `encoder_attention_mask` is deprecated and will be removed in version 4.55.0 for `BertSdpaSelfAttention.forward`.\n",
            "  return forward_call(*args, **kwargs)\n",
            "c:\\Users\\jtlee\\anaconda3\\envs\\learn-env\\Lib\\site-packages\\transformers\\models\\encoder_decoder\\modeling_encoder_decoder.py:577: FutureWarning: Version v4.12.0 introduces a better way to train encoder-decoder models by computing the loss inside the encoder-decoder framework rather than in the decoder itself. You may observe training discrepancies if fine-tuning a model trained with versions anterior to 4.12.0. The decoder_input_ids are now created based on the labels, no need to pass them yourself anymore.\n",
            "  warnings.warn(DEPRECATION_WARNING, FutureWarning)\n",
            "c:\\Users\\jtlee\\anaconda3\\envs\\learn-env\\Lib\\site-packages\\torch\\nn\\modules\\module.py:1762: FutureWarning: `encoder_attention_mask` is deprecated and will be removed in version 4.55.0 for `BertSdpaSelfAttention.forward`.\n",
            "  return forward_call(*args, **kwargs)\n",
            "c:\\Users\\jtlee\\anaconda3\\envs\\learn-env\\Lib\\site-packages\\transformers\\models\\encoder_decoder\\modeling_encoder_decoder.py:577: FutureWarning: Version v4.12.0 introduces a better way to train encoder-decoder models by computing the loss inside the encoder-decoder framework rather than in the decoder itself. You may observe training discrepancies if fine-tuning a model trained with versions anterior to 4.12.0. The decoder_input_ids are now created based on the labels, no need to pass them yourself anymore.\n",
            "  warnings.warn(DEPRECATION_WARNING, FutureWarning)\n"
          ]
        },
        {
          "name": "stdout",
          "output_type": "stream",
          "text": [
            "Training time: 71.29 minutes\n"
          ]
        }
      ],
      "source": [
        "start_time = time.time()\n",
        "\n",
        "mlflow.set_experiment(\"BERT2BERT SAMSum\")\n",
        "\n",
        "with mlflow.start_run():\n",
        "    mlflow.log_param(\"model\", \"bert2bert-cnn_dailymail-fp16\")\n",
        "    mlflow.log_param(\"epochs\", 3)\n",
        "    mlflow.log_param(\"batch_size\", 4)\n",
        "    \n",
        "    # Start training\n",
        "    trainer.train()\n",
        "\n",
        "    # Log final model and tokenizer\n",
        "    model.save_pretrained(\"./bert2bert_samsum_final\")\n",
        "    tokenizer.save_pretrained(\"./bert2bert_samsum_final\")\n",
        "    \n",
        "    mlflow.log_artifacts(\"./bert2bert_samsum_final\", artifact_path=\"model\")\n",
        "\n",
        "end_time = time.time()\n",
        "print(f\"Training time: {(end_time - start_time)/60:.2f} minutes\")\n",
        "\n",
        "# training time: 51 minutes on 7/25/25\n",
        "# training time: 42 minutes on 7/26/25 w/ 3 epochs\n",
        "# training time: 71 min on 7/26/25 w/ 5 epochs"
      ]
    },
    {
      "cell_type": "markdown",
      "metadata": {
        "id": "zu8n93ANRtKv"
      },
      "source": [
        "## Evaluation"
      ]
    },
    {
      "cell_type": "code",
      "execution_count": null,
      "metadata": {
        "id": "IjLbZzBPRt8-"
      },
      "outputs": [],
      "source": [
        "abcdefg"
      ]
    },
    {
      "cell_type": "markdown",
      "metadata": {
        "id": "9dXfxx4WRw5H"
      },
      "source": [
        "# Conclusion"
      ]
    },
    {
      "cell_type": "code",
      "execution_count": null,
      "metadata": {
        "id": "vEPycPbmRylw"
      },
      "outputs": [],
      "source": []
    },
    {
      "cell_type": "markdown",
      "metadata": {},
      "source": [
        "this is the conclusion"
      ]
    }
  ],
  "metadata": {
    "colab": {
      "authorship_tag": "ABX9TyNituRIHQknvIE90djeX5/2",
      "include_colab_link": true,
      "provenance": []
    },
    "kernelspec": {
      "display_name": "learn-env",
      "language": "python",
      "name": "python3"
    },
    "language_info": {
      "codemirror_mode": {
        "name": "ipython",
        "version": 3
      },
      "file_extension": ".py",
      "mimetype": "text/x-python",
      "name": "python",
      "nbconvert_exporter": "python",
      "pygments_lexer": "ipython3",
      "version": "3.12.4"
    }
  },
  "nbformat": 4,
  "nbformat_minor": 0
}
