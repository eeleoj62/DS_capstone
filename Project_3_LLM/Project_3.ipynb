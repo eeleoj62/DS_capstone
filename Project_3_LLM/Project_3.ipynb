{
  "nbformat": 4,
  "nbformat_minor": 0,
  "metadata": {
    "colab": {
      "provenance": [],
      "authorship_tag": "ABX9TyNituRIHQknvIE90djeX5/2",
      "include_colab_link": true
    },
    "kernelspec": {
      "name": "python3",
      "display_name": "Python 3"
    },
    "language_info": {
      "name": "python"
    }
  },
  "cells": [
    {
      "cell_type": "markdown",
      "metadata": {
        "id": "view-in-github",
        "colab_type": "text"
      },
      "source": [
        "<a href=\"https://colab.research.google.com/github/f1shstyxx/DS_capstone/blob/main/Project_3_LLM/Project_3.ipynb\" target=\"_parent\"><img src=\"https://colab.research.google.com/assets/colab-badge.svg\" alt=\"Open In Colab\"/></a>"
      ]
    },
    {
      "cell_type": "markdown",
      "source": [
        "# Project 3 - Supervised Learning for Text Summarization"
      ],
      "metadata": {
        "id": "Xhn1JOvkRHvF"
      }
    },
    {
      "cell_type": "markdown",
      "source": [
        "## Business Understanding"
      ],
      "metadata": {
        "id": "8aSuR7fhRQIJ"
      }
    },
    {
      "cell_type": "markdown",
      "source": [
        "### Background"
      ],
      "metadata": {
        "id": "CSlpXrPRRUEa"
      }
    },
    {
      "cell_type": "markdown",
      "source": [
        "### Dataset Details"
      ],
      "metadata": {
        "id": "oRgx41lQRV9S"
      }
    },
    {
      "cell_type": "markdown",
      "source": [
        "### Project Goals"
      ],
      "metadata": {
        "id": "NnNfsfZ7RZbG"
      }
    },
    {
      "cell_type": "markdown",
      "source": [
        "### Project Considerations"
      ],
      "metadata": {
        "id": "KP-kvP28RcZH"
      }
    },
    {
      "cell_type": "code",
      "source": [
        "!pip uninstall -y transformers\n",
        "!pip uninstall -y huggingface_hub\n",
        "!pip install -U transformers\n"
      ],
      "metadata": {
        "colab": {
          "base_uri": "https://localhost:8080/",
          "height": 686
        },
        "id": "8mUQU8YeDpUg",
        "outputId": "6531003b-2cad-4e77-e985-39019400b67d"
      },
      "execution_count": 21,
      "outputs": [
        {
          "output_type": "stream",
          "name": "stdout",
          "text": [
            "Found existing installation: transformers 4.53.3\n",
            "Uninstalling transformers-4.53.3:\n",
            "  Successfully uninstalled transformers-4.53.3\n",
            "Found existing installation: huggingface-hub 0.33.4\n",
            "Uninstalling huggingface-hub-0.33.4:\n",
            "  Successfully uninstalled huggingface-hub-0.33.4\n",
            "Collecting transformers\n",
            "  Downloading transformers-4.54.0-py3-none-any.whl.metadata (41 kB)\n",
            "\u001b[2K     \u001b[90m━━━━━━━━━━━━━━━━━━━━━━━━━━━━━━━━━━━━━━━\u001b[0m \u001b[32m41.7/41.7 kB\u001b[0m \u001b[31m469.6 kB/s\u001b[0m eta \u001b[36m0:00:00\u001b[0m\n",
            "\u001b[?25hRequirement already satisfied: filelock in /usr/local/lib/python3.11/dist-packages (from transformers) (3.18.0)\n",
            "Collecting huggingface-hub<1.0,>=0.34.0 (from transformers)\n",
            "  Downloading huggingface_hub-0.34.1-py3-none-any.whl.metadata (14 kB)\n",
            "Requirement already satisfied: numpy>=1.17 in /usr/local/lib/python3.11/dist-packages (from transformers) (2.0.2)\n",
            "Requirement already satisfied: packaging>=20.0 in /usr/local/lib/python3.11/dist-packages (from transformers) (25.0)\n",
            "Requirement already satisfied: pyyaml>=5.1 in /usr/local/lib/python3.11/dist-packages (from transformers) (6.0.2)\n",
            "Requirement already satisfied: regex!=2019.12.17 in /usr/local/lib/python3.11/dist-packages (from transformers) (2024.11.6)\n",
            "Requirement already satisfied: requests in /usr/local/lib/python3.11/dist-packages (from transformers) (2.32.3)\n",
            "Requirement already satisfied: tokenizers<0.22,>=0.21 in /usr/local/lib/python3.11/dist-packages (from transformers) (0.21.2)\n",
            "Requirement already satisfied: safetensors>=0.4.3 in /usr/local/lib/python3.11/dist-packages (from transformers) (0.5.3)\n",
            "Requirement already satisfied: tqdm>=4.27 in /usr/local/lib/python3.11/dist-packages (from transformers) (4.67.1)\n",
            "Requirement already satisfied: fsspec>=2023.5.0 in /usr/local/lib/python3.11/dist-packages (from huggingface-hub<1.0,>=0.34.0->transformers) (2025.3.0)\n",
            "Requirement already satisfied: typing-extensions>=3.7.4.3 in /usr/local/lib/python3.11/dist-packages (from huggingface-hub<1.0,>=0.34.0->transformers) (4.14.1)\n",
            "Requirement already satisfied: hf-xet<2.0.0,>=1.1.3 in /usr/local/lib/python3.11/dist-packages (from huggingface-hub<1.0,>=0.34.0->transformers) (1.1.5)\n",
            "Requirement already satisfied: charset-normalizer<4,>=2 in /usr/local/lib/python3.11/dist-packages (from requests->transformers) (3.4.2)\n",
            "Requirement already satisfied: idna<4,>=2.5 in /usr/local/lib/python3.11/dist-packages (from requests->transformers) (3.10)\n",
            "Requirement already satisfied: urllib3<3,>=1.21.1 in /usr/local/lib/python3.11/dist-packages (from requests->transformers) (2.5.0)\n",
            "Requirement already satisfied: certifi>=2017.4.17 in /usr/local/lib/python3.11/dist-packages (from requests->transformers) (2025.7.14)\n",
            "Downloading transformers-4.54.0-py3-none-any.whl (11.2 MB)\n",
            "\u001b[2K   \u001b[90m━━━━━━━━━━━━━━━━━━━━━━━━━━━━━━━━━━━━━━━━\u001b[0m \u001b[32m11.2/11.2 MB\u001b[0m \u001b[31m41.8 MB/s\u001b[0m eta \u001b[36m0:00:00\u001b[0m\n",
            "\u001b[?25hDownloading huggingface_hub-0.34.1-py3-none-any.whl (558 kB)\n",
            "\u001b[2K   \u001b[90m━━━━━━━━━━━━━━━━━━━━━━━━━━━━━━━━━━━━━━━━\u001b[0m \u001b[32m558.8/558.8 kB\u001b[0m \u001b[31m35.6 MB/s\u001b[0m eta \u001b[36m0:00:00\u001b[0m\n",
            "\u001b[?25hInstalling collected packages: huggingface-hub, transformers\n",
            "Successfully installed huggingface-hub-0.34.1 transformers-4.54.0\n"
          ]
        },
        {
          "output_type": "display_data",
          "data": {
            "application/vnd.colab-display-data+json": {
              "pip_warning": {
                "packages": [
                  "huggingface_hub",
                  "transformers"
                ]
              },
              "id": "1a63199c71214ea3aaf0e1fc7ab7951c"
            }
          },
          "metadata": {}
        }
      ]
    },
    {
      "cell_type": "markdown",
      "source": [
        "## Data Understanding"
      ],
      "metadata": {
        "id": "ocUv3H-WRfHh"
      }
    },
    {
      "cell_type": "code",
      "source": [
        "# import libraries\n",
        "import numpy as np\n",
        "import pandas as pd\n",
        "import matplotlib.pyplot as plt\n",
        "import seaborn as sns\n",
        "import random\n",
        "import os\n",
        "import time\n",
        "from sklearn.model_selection import train_test_split\n",
        "from sklearn.metrics import classification_report, confusion_matrix, \\\n",
        "  accuracy_score, ConfusionMatrixDisplay\n",
        "from transformers import BertTokenizer, EncoderDecoderModel, TrainingArguments,\\\n",
        "  Trainer, DataCollatorForSeq2Seq\n",
        "import transformers\n",
        "\n",
        "# set random seed for reproducibility\n",
        "def set_seed(seed_value=42):\n",
        "  random.seed(seed_value)\n",
        "  np.random.seed(seed_value)\n",
        "  os.environ['PYTHONHASHSEED'] = str(seed_value)\n",
        "\n",
        "set_seed()"
      ],
      "metadata": {
        "id": "ZDyPy2jEFkGF"
      },
      "execution_count": 1,
      "outputs": []
    },
    {
      "cell_type": "code",
      "execution_count": 2,
      "metadata": {
        "id": "xK4c48l7Ebnf"
      },
      "outputs": [],
      "source": [
        "# install hugging face\n",
        "# !pip install datasets"
      ]
    },
    {
      "cell_type": "code",
      "source": [
        "# load samsum dataset\n",
        "from datasets import load_dataset\n",
        "\n",
        "dataset = load_dataset('knkarthick/samsum')"
      ],
      "metadata": {
        "colab": {
          "base_uri": "https://localhost:8080/"
        },
        "id": "Saw8v1huEsgn",
        "outputId": "34e10a17-fe60-4144-f2b9-c4d954238720"
      },
      "execution_count": 3,
      "outputs": [
        {
          "output_type": "stream",
          "name": "stderr",
          "text": [
            "/usr/local/lib/python3.11/dist-packages/huggingface_hub/utils/_auth.py:94: UserWarning: \n",
            "The secret `HF_TOKEN` does not exist in your Colab secrets.\n",
            "To authenticate with the Hugging Face Hub, create a token in your settings tab (https://huggingface.co/settings/tokens), set it as secret in your Google Colab and restart your session.\n",
            "You will be able to reuse this secret in all of your notebooks.\n",
            "Please note that authentication is recommended but still optional to access public models or datasets.\n",
            "  warnings.warn(\n"
          ]
        }
      ]
    },
    {
      "cell_type": "code",
      "source": [
        "print(dataset)"
      ],
      "metadata": {
        "colab": {
          "base_uri": "https://localhost:8080/"
        },
        "id": "wSGnIl87E04x",
        "outputId": "bda782a5-5ebb-405c-b3cd-3fe73870bf15"
      },
      "execution_count": 4,
      "outputs": [
        {
          "output_type": "stream",
          "name": "stdout",
          "text": [
            "DatasetDict({\n",
            "    train: Dataset({\n",
            "        features: ['id', 'dialogue', 'summary'],\n",
            "        num_rows: 14732\n",
            "    })\n",
            "    validation: Dataset({\n",
            "        features: ['id', 'dialogue', 'summary'],\n",
            "        num_rows: 818\n",
            "    })\n",
            "    test: Dataset({\n",
            "        features: ['id', 'dialogue', 'summary'],\n",
            "        num_rows: 819\n",
            "    })\n",
            "})\n"
          ]
        }
      ]
    },
    {
      "cell_type": "code",
      "source": [
        "print(dataset['train'][0])"
      ],
      "metadata": {
        "colab": {
          "base_uri": "https://localhost:8080/"
        },
        "id": "9T1qUJgoFAfu",
        "outputId": "a66ff04f-28c4-47fa-90b3-31f30e62af34"
      },
      "execution_count": 5,
      "outputs": [
        {
          "output_type": "stream",
          "name": "stdout",
          "text": [
            "{'id': '13818513', 'dialogue': \"Amanda: I baked  cookies. Do you want some?\\nJerry: Sure!\\nAmanda: I'll bring you tomorrow :-)\", 'summary': 'Amanda baked cookies and will bring Jerry some tomorrow.'}\n"
          ]
        }
      ]
    },
    {
      "cell_type": "code",
      "source": [
        "# convert train, validation and test datasets to dataframes for EDA\n",
        "# pandas dfs are better for quick exploration than Hugging Face datasets\n",
        "# hugging face dataset objects are good for modeling, but less flexible for:\n",
        "# describe(), filtering, plotting, sample inspection\n",
        "\n",
        "df_train = pd.DataFrame(dataset['train'])\n",
        "print(df_train.head())\n",
        "\n",
        "df_val = pd.DataFrame(dataset['validation'])\n",
        "print(df_val.head())\n",
        "\n",
        "df_test = pd.DataFrame(dataset['test'])\n",
        "print(df_test.head())"
      ],
      "metadata": {
        "colab": {
          "base_uri": "https://localhost:8080/"
        },
        "id": "7QGjNoW7FEyq",
        "outputId": "dcf4597b-aa49-4d7a-c6d9-d6de539d0295"
      },
      "execution_count": 6,
      "outputs": [
        {
          "output_type": "stream",
          "name": "stdout",
          "text": [
            "         id                                           dialogue  \\\n",
            "0  13818513  Amanda: I baked  cookies. Do you want some?\\nJ...   \n",
            "1  13728867  Olivia: Who are you voting for in this electio...   \n",
            "2  13681000  Tim: Hi, what's up?\\nKim: Bad mood tbh, I was ...   \n",
            "3  13730747  Edward: Rachel, I think I'm in ove with Bella....   \n",
            "4  13728094  Sam: hey  overheard rick say something\\nSam: i...   \n",
            "\n",
            "                                             summary  \n",
            "0  Amanda baked cookies and will bring Jerry some...  \n",
            "1  Olivia and Olivier are voting for liberals in ...  \n",
            "2  Kim may try the pomodoro technique recommended...  \n",
            "3  Edward thinks he is in love with Bella. Rachel...  \n",
            "4  Sam is confused, because he overheard Rick com...  \n",
            "         id                                           dialogue  \\\n",
            "0  13817023  A: Hi Tom, are you busy tomorrow’s afternoon?\\...   \n",
            "1  13716628  Emma: I’ve just fallen in love with this adven...   \n",
            "2  13829420  Jackie: Madison is pregnant\\nJackie: but she d...   \n",
            "3  13819648  Marla: <file_photo>\\nMarla: look what I found ...   \n",
            "4  13728448  Robert: Hey give me the address of this music ...   \n",
            "\n",
            "                                             summary  \n",
            "0  A will go to the animal shelter tomorrow to ge...  \n",
            "1  Emma and Rob love the advent calendar. Lauren ...  \n",
            "2  Madison is pregnant but she doesn't want to ta...  \n",
            "3        Marla found a pair of boxers under her bed.  \n",
            "4  Robert wants Fred to send him the address of t...  \n",
            "         id                                           dialogue  \\\n",
            "0  13862856  Hannah: Hey, do you have Betty's number?\\nAman...   \n",
            "1  13729565  Eric: MACHINE!\\nRob: That's so gr8!\\nEric: I k...   \n",
            "2  13680171  Lenny: Babe, can you help me with something?\\n...   \n",
            "3  13729438  Will: hey babe, what do you want for dinner to...   \n",
            "4  13828600  Ollie: Hi , are you in Warsaw\\nJane: yes, just...   \n",
            "\n",
            "                                             summary  \n",
            "0  Hannah needs Betty's number but Amanda doesn't...  \n",
            "1  Eric and Rob are going to watch a stand-up on ...  \n",
            "2  Lenny can't decide which trousers to buy. Bob ...  \n",
            "3  Emma will be home soon and she will let Will k...  \n",
            "4  Jane is in Warsaw. Ollie and Jane has a party....  \n"
          ]
        }
      ]
    },
    {
      "cell_type": "markdown",
      "source": [
        "### Text Exploration\n",
        "Analyze the characteristics of the dialogues and summaries"
      ],
      "metadata": {
        "id": "OGSTKOAQTOOP"
      }
    },
    {
      "cell_type": "code",
      "source": [
        "# train df basic info and describe\n",
        "print(df_train.info())\n",
        "print(df_train.describe())"
      ],
      "metadata": {
        "colab": {
          "base_uri": "https://localhost:8080/"
        },
        "id": "AuJvmskFUkRr",
        "outputId": "8c84fbb8-6065-494c-cdc5-a57d7e5127bb"
      },
      "execution_count": 7,
      "outputs": [
        {
          "output_type": "stream",
          "name": "stdout",
          "text": [
            "<class 'pandas.core.frame.DataFrame'>\n",
            "RangeIndex: 14732 entries, 0 to 14731\n",
            "Data columns (total 3 columns):\n",
            " #   Column    Non-Null Count  Dtype \n",
            "---  ------    --------------  ----- \n",
            " 0   id        14732 non-null  object\n",
            " 1   dialogue  14731 non-null  object\n",
            " 2   summary   14732 non-null  object\n",
            "dtypes: object(3)\n",
            "memory usage: 345.4+ KB\n",
            "None\n",
            "              id                                           dialogue  \\\n",
            "count      14732                                              14731   \n",
            "unique     14732                                              14255   \n",
            "top     13729017  Jimmy: Hey, guess what? My car's completely ka...   \n",
            "freq           1                                                  4   \n",
            "\n",
            "                                                  summary  \n",
            "count                                               14732  \n",
            "unique                                              14730  \n",
            "top     Seth's pet Oreo that he got when he was 10 is ...  \n",
            "freq                                                    2  \n"
          ]
        }
      ]
    },
    {
      "cell_type": "code",
      "source": [
        "# length of train df\n",
        "print(f\"Length of train df: {len(df_train)}\")"
      ],
      "metadata": {
        "colab": {
          "base_uri": "https://localhost:8080/"
        },
        "id": "5xScGQdqU1_l",
        "outputId": "37d5ce8f-e23d-4be1-c62f-76be17e8b603"
      },
      "execution_count": 8,
      "outputs": [
        {
          "output_type": "stream",
          "name": "stdout",
          "text": [
            "Length of train df: 14732\n"
          ]
        }
      ]
    },
    {
      "cell_type": "code",
      "source": [
        "# text length analysis\n",
        "# analysis will include speaker names\n",
        "df_train['dialogue_length'] = df_train['dialogue'].apply(lambda x: len(str(x).split()))\n",
        "print(f\"\\nAverage dialogue length: {df_train['dialogue_length'].mean():.2f} words\")\n",
        "print(f\"\\nMedian dialogue length: {df_train['dialogue_length'].median():.2f} words\")\n",
        "print(f\"\\nMinimum dialogue length: {df_train['dialogue_length'].min()} words\")\n",
        "print(f\"\\nMaximum dialogue length: {df_train['dialogue_length'].max()} words\")"
      ],
      "metadata": {
        "colab": {
          "base_uri": "https://localhost:8080/"
        },
        "id": "I_T1kwXUGQO0",
        "outputId": "d6f17d03-1528-48ad-c609-07ac42151778"
      },
      "execution_count": 9,
      "outputs": [
        {
          "output_type": "stream",
          "name": "stdout",
          "text": [
            "\n",
            "Average dialogue length: 93.79 words\n",
            "\n",
            "Median dialogue length: 73.00 words\n",
            "\n",
            "Minimum dialogue length: 1 words\n",
            "\n",
            "Maximum dialogue length: 803 words\n"
          ]
        }
      ]
    },
    {
      "cell_type": "code",
      "source": [
        "df_train['summary_length'] = df_train['summary'].apply(lambda x: len(str(x).split()))\n",
        "print(f\"\\nAverage summary length: {df_train['summary_length'].mean():.2f} words\")\n",
        "print(f\"\\nMedian summary length: {df_train['summary_length'].median():.2f} words\")\n",
        "print(f\"\\nMinimum summary length: {df_train['summary_length'].min()} words\")\n",
        "print(f\"\\nMaximum summary length: {df_train['summary_length'].max()} words\")"
      ],
      "metadata": {
        "colab": {
          "base_uri": "https://localhost:8080/"
        },
        "id": "0lPYaJY2c4TK",
        "outputId": "ffe5997e-7818-4e9c-9c78-7dcc2ba1b077"
      },
      "execution_count": 10,
      "outputs": [
        {
          "output_type": "stream",
          "name": "stdout",
          "text": [
            "\n",
            "Average summary length: 20.32 words\n",
            "\n",
            "Median summary length: 18.00 words\n",
            "\n",
            "Minimum summary length: 1 words\n",
            "\n",
            "Maximum summary length: 64 words\n"
          ]
        }
      ]
    },
    {
      "cell_type": "code",
      "source": [
        "# check for missing values\n",
        "print(df_train.isnull().sum())\n",
        "print(df_val.isnull().sum())\n",
        "print(df_test.isnull().sum())"
      ],
      "metadata": {
        "colab": {
          "base_uri": "https://localhost:8080/"
        },
        "id": "9d10VyGxTtj5",
        "outputId": "ffc8b56e-992b-4def-8204-4095c6b7011a"
      },
      "execution_count": 11,
      "outputs": [
        {
          "output_type": "stream",
          "name": "stdout",
          "text": [
            "id                 0\n",
            "dialogue           1\n",
            "summary            0\n",
            "dialogue_length    0\n",
            "summary_length     0\n",
            "dtype: int64\n",
            "id          0\n",
            "dialogue    0\n",
            "summary     0\n",
            "dtype: int64\n",
            "id          0\n",
            "dialogue    0\n",
            "summary     0\n",
            "dtype: int64\n"
          ]
        }
      ]
    },
    {
      "cell_type": "code",
      "source": [
        "# drop row from df_train with missing value in dialogue column\n",
        "df_train = df_train.dropna(subset=['dialogue'])\n",
        "print(df_train.isnull().sum())\n",
        "print(f\"\\nLength of train df: {len(df_train)}\")"
      ],
      "metadata": {
        "colab": {
          "base_uri": "https://localhost:8080/"
        },
        "id": "qNbMne5oVJgR",
        "outputId": "4ddd10cf-5316-4ac1-98fe-f243a369ef51"
      },
      "execution_count": 12,
      "outputs": [
        {
          "output_type": "stream",
          "name": "stdout",
          "text": [
            "id                 0\n",
            "dialogue           0\n",
            "summary            0\n",
            "dialogue_length    0\n",
            "summary_length     0\n",
            "dtype: int64\n",
            "\n",
            "Length of train df: 14731\n"
          ]
        }
      ]
    },
    {
      "cell_type": "code",
      "source": [
        "# plot dialogue vs summary lengths\n",
        "plt.figure(figsize=(10, 6))\n",
        "plt.hist(df_train['dialogue_length'], bins=50, alpha=0.5, label='Dialogue Length')\n",
        "plt.hist(df_train['summary_length'], bins=50, alpha=0.5, label='Summary Length')\n",
        "plt.xlabel('Number of Words')\n",
        "plt.ylabel('Number of Samples')\n",
        "plt.title('Distribution of Dialogue and Summary Lengths')\n",
        "plt.legend()\n",
        "plt.show()"
      ],
      "metadata": {
        "colab": {
          "base_uri": "https://localhost:8080/",
          "height": 564
        },
        "id": "1XplI6u5ew2E",
        "outputId": "6d797d42-79ff-49ca-9366-1a9372731bc8"
      },
      "execution_count": 13,
      "outputs": [
        {
          "output_type": "display_data",
          "data": {
            "text/plain": [
              "<Figure size 1000x600 with 1 Axes>"
            ],
            "image/png": "[encoded data removed]"
          },
          "metadata": {}
        }
      ]
    },
    {
      "cell_type": "code",
      "source": [
        "# plot dialogue, summary, and compression statistics\n",
        "df_train['compression'] = df_train['dialogue_length'] / df_train['summary_length']\n",
        "stats = df_train[['dialogue_length', 'summary_length', 'compression']].agg(['mean', 'median', 'min', 'max']).round(2).T\n",
        "\n",
        "# plot statistics\n",
        "stats.T.plot(kind='bar', figsize=(10,6))\n",
        "plt.title('Descriptive Statistics: Dialogue, Summary and Compression Ratio')\n",
        "plt.xlabel('Statistics')\n",
        "plt.ylabel('Value')\n",
        "plt.xticks(rotation=45)\n",
        "plt.legend(title='Metric')\n",
        "plt.tight_layout()\n",
        "plt.show()"
      ],
      "metadata": {
        "colab": {
          "base_uri": "https://localhost:8080/",
          "height": 607
        },
        "id": "0pQqbYEnez5I",
        "outputId": "9f729811-9bed-4ff3-b4bf-06cd8ffd841f"
      },
      "execution_count": 14,
      "outputs": [
        {
          "output_type": "display_data",
          "data": {
            "text/plain": [
              "<Figure size 1000x600 with 1 Axes>"
            ],
            "image/png": "[encoded data removed]"
          },
          "metadata": {}
        }
      ]
    },
    {
      "cell_type": "code",
      "source": [
        "# examples of dialogue and summary\n",
        "print(f\"\\nDialogue: {df_train['dialogue'][5]}\")\n",
        "print(f\"\\nSummary: {df_train['summary'][5]}\")\n",
        "\n",
        "print(f\"\\nDialogue: {df_train['dialogue'][1000]}\")\n",
        "print(f\"\\nSummary: {df_train['summary'][1000]}\")"
      ],
      "metadata": {
        "colab": {
          "base_uri": "https://localhost:8080/"
        },
        "id": "Rq2I9X3gYIfj",
        "outputId": "e17b57a9-9baf-4da9-a095-8ba4b9f3f632"
      },
      "execution_count": 15,
      "outputs": [
        {
          "output_type": "stream",
          "name": "stdout",
          "text": [
            "\n",
            "Dialogue: Neville: Hi there, does anyone remember what date I got married on?\n",
            "Don: Are you serious?\n",
            "Neville: Dead serious. We're on vacation, and Tina's mad at me about something. I have a strange suspicion that this might have something to do with our wedding anniversary, but I have nowhere to check.\n",
            "Wyatt: Hang on, I'll ask my wife.\n",
            "Don: Haha, someone's in a lot of trouble :D\n",
            "Wyatt: September 17. I hope you remember the year ;)\n",
            "\n",
            "Summary: Wyatt reminds Neville his wedding anniversary is on the 17th of September. Neville's wife is upset and it might be because Neville forgot about their anniversary.\n",
            "\n",
            "Dialogue: Ann: Do you have plans for the holidays this year?\n",
            "Mary: Well we thought of going for a hike somewhere beautiful\n",
            "Mary: and you?\n",
            "Ann: We talked about it last night and we thought maybe you would like to do sth together?\n",
            "Mary: Why not\n",
            "Mary: just remember that we're outdoorsy people :D\n",
            "Ann: I know, but you're not even considering a nice beach somewhere?\n",
            "Mary: weeeeell, that's not really us, you know?\n",
            "Mary: we prefer tents and hiking boots to bikinis and sunscreen ;)\n",
            "Ann: I see.\n",
            "Ann: I'm not sure I'm ready for a longer hike but maybe we could go somewhere like that for a weekend so I can try it?\n",
            "Mary: That would be great!\n",
            "Mary: I'm sure you'll love it just like we do :)\n",
            "Ann: the idea of spending you time in the woods sure is romantic, but i'm not sure I'll remember that when bugs qill be eating me alive or sth\n",
            "Mary: Yeah, it's not for everyone :D\n",
            "Ann: Would like yo try though.\n",
            "Mary: There are a few great spots nearby\n",
            "Mary: Perfect for a weekend.\n",
            "Ann: Great, let me know and I'll talk to Henry.\n",
            "Mary: OK :)\n",
            "\n",
            "Summary: Mary, Ann and their partners will spend the weekend together hiking.\n"
          ]
        }
      ]
    },
    {
      "cell_type": "markdown",
      "source": [
        "## Data Preparation"
      ],
      "metadata": {
        "id": "EFIblUW7RoEW"
      }
    },
    {
      "cell_type": "markdown",
      "source": [
        "Prep data for input to BERT model\n",
        "* implement appropriate tokenization\n",
        "* create training and validation splits\n",
        "* build data loaders for efficient model training"
      ],
      "metadata": {
        "id": "lEuaqBQViBnx"
      }
    },
    {
      "cell_type": "code",
      "source": [
        "# initialize tokenizer\n",
        "# converts input dialogue into token IDs for the encoder\n",
        "# converts target summary into token IDs for the decoder\n",
        "tokenizer = BertTokenizer.from_pretrained('bert-base-uncased')\n",
        "\n",
        "MAX_INPUT_LENGTH = 512\n",
        "MAX_TARGET_LENGTH = 64\n",
        "\n",
        "# define tokenize function\n",
        "def tokenize_function(batch):\n",
        "\n",
        "  # tokenize input dialogue\n",
        "  inputs = tokenizer(\n",
        "      batch['dialogue'],\n",
        "      padding='max_length',\n",
        "      truncation=True,\n",
        "      max_length = MAX_INPUT_LENGTH,\n",
        "  )\n",
        "\n",
        "  # tokenize target summary\n",
        "  with tokenizer.as_target_tokenizer():\n",
        "    labels = tokenizer(\n",
        "        batch['summary'],\n",
        "        padding='max_length',\n",
        "        truncation=True,\n",
        "        max_length=MAX_TARGET_LENGTH,\n",
        "  )\n",
        "\n",
        "  # attach labels to inputs\n",
        "  inputs['labels'] = labels['input_ids']\n",
        "  return inputs"
      ],
      "metadata": {
        "id": "_uTe2XWpRpBo"
      },
      "execution_count": 16,
      "outputs": []
    },
    {
      "cell_type": "code",
      "source": [
        "# tokenize train, validation, and test datasets\n",
        "\n",
        "start_time = time.time()\n",
        "\n",
        "# Remove examples with None in 'dialogue' or 'summary'\n",
        "dataset['train'] = dataset['train'].filter(lambda x: x['dialogue'] is not None and x['summary'] is not None)\n",
        "\n",
        "tokenized_train = dataset['train'].map(tokenize_function, batched=True)\n",
        "tokenized_val = dataset['validation'].map(tokenize_function, batched=True)\n",
        "tokenized_test = dataset['test'].map(tokenize_function, batched=True)\n",
        "\n",
        "end_time = time.time()\n",
        "print(f\"Tokenization time: {end_time - start_time:.2f} seconds\")\n",
        "\n",
        "# Tokenization time: 50 sec on 7/25/25"
      ],
      "metadata": {
        "colab": {
          "base_uri": "https://localhost:8080/"
        },
        "id": "kPyKAX1s1_SS",
        "outputId": "179def5e-206c-4f62-bf3b-ebe2df5a3039"
      },
      "execution_count": 17,
      "outputs": [
        {
          "output_type": "stream",
          "name": "stdout",
          "text": [
            "Tokenization time: 0.79 seconds\n"
          ]
        }
      ]
    },
    {
      "cell_type": "code",
      "source": [
        "# load a BERT2BERT pre-trained model (encoder-decoder)\n",
        "# use patrickvonplaten/bert2bert-cnn_dailymail-fp16 as a BERT2BERT model fine-tuned on CNN/DailyMail\n",
        "# encoder and decoder both use bert-case-uncased\n",
        "# bert-case-uncased is a commonly used pretrained BERT model from the original BERT paper\n",
        "\n",
        "model = EncoderDecoderModel.from_pretrained('patrickvonplaten/bert2bert-cnn_dailymail-fp16')"
      ],
      "metadata": {
        "colab": {
          "base_uri": "https://localhost:8080/"
        },
        "id": "nl32B8e66wuZ",
        "outputId": "bd05d1c3-55d0-4afe-f922-3598bab78e78"
      },
      "execution_count": 18,
      "outputs": [
        {
          "output_type": "stream",
          "name": "stderr",
          "text": [
            "Some weights of the model checkpoint at patrickvonplaten/bert2bert-cnn_dailymail-fp16 were not used when initializing EncoderDecoderModel: ['decoder.bert.pooler.dense.bias', 'decoder.bert.pooler.dense.weight']\n",
            "- This IS expected if you are initializing EncoderDecoderModel from the checkpoint of a model trained on another task or with another architecture (e.g. initializing a BertForSequenceClassification model from a BertForPreTraining model).\n",
            "- This IS NOT expected if you are initializing EncoderDecoderModel from the checkpoint of a model that you expect to be exactly identical (initializing a BertForSequenceClassification model from a BertForSequenceClassification model).\n"
          ]
        }
      ]
    },
    {
      "cell_type": "code",
      "source": [
        "# configure the model for the summarization task\n",
        "model.config.decoder_start_token_id = tokenizer.cls_token_id\n",
        "model.config.eos_token_id = tokenizer.sep_token_id\n",
        "model.config.pad_token_id = tokenizer.pad_token_id\n",
        "model.config.vocab_size = model.config.encoder.vocab_size"
      ],
      "metadata": {
        "id": "305-cNG5AID8"
      },
      "execution_count": 19,
      "outputs": []
    },
    {
      "cell_type": "markdown",
      "source": [
        "## Modeling"
      ],
      "metadata": {
        "id": "IsaMdZU8RpyJ"
      }
    },
    {
      "cell_type": "code",
      "source": [
        "# set up training arguments\n",
        "\n",
        "training_args = TrainingArguments(\n",
        "    output_dir=\"./bert2bert_samsum\",\n",
        "    evaluation_strategy=\"steps\",\n",
        "    per_device_train_batch_size=4,\n",
        "    per_device_eval_batch_size=4,\n",
        "    predict_with_generate=True,\n",
        "    logging_steps=500,\n",
        "    save_steps=1000,\n",
        "    eval_steps=1000,\n",
        "    num_train_epochs=3,\n",
        "    save_total_limit=2,\n",
        "    fp16=True  # if using GPU\n",
        ")\n",
        "\n",
        "\n",
        "data_collator = DataCollatorForSeq2Seq(tokenizer, model=model)\n",
        "\n",
        "trainer = Trainer(\n",
        "    model=model,\n",
        "    args=training_args,\n",
        "    train_dataset=tokenized_train,\n",
        "    eval_dataset=tokenized_val,\n",
        "    tokenizer=tokenizer,\n",
        "    data_collator=data_collator\n",
        ")\n",
        "\n",
        "trainer.train()"
      ],
      "metadata": {
        "colab": {
          "base_uri": "https://localhost:8080/",
          "height": 211
        },
        "id": "p2GSq5HHRqxr",
        "outputId": "2f3e1436-19c6-43ab-bd63-38ade78e9389"
      },
      "execution_count": 20,
      "outputs": [
        {
          "output_type": "error",
          "ename": "TypeError",
          "evalue": "TrainingArguments.__init__() got an unexpected keyword argument 'evaluation_strategy'",
          "traceback": [
            "\u001b[0;31m---------------------------------------------------------------------------\u001b[0m",
            "\u001b[0;31mTypeError\u001b[0m                                 Traceback (most recent call last)",
            "\u001b[0;32m/tmp/ipython-input-20-1105225793.py\u001b[0m in \u001b[0;36m<cell line: 0>\u001b[0;34m()\u001b[0m\n\u001b[1;32m      1\u001b[0m \u001b[0;31m# set up training arguments\u001b[0m\u001b[0;34m\u001b[0m\u001b[0;34m\u001b[0m\u001b[0m\n\u001b[1;32m      2\u001b[0m \u001b[0;34m\u001b[0m\u001b[0m\n\u001b[0;32m----> 3\u001b[0;31m training_args = TrainingArguments(\n\u001b[0m\u001b[1;32m      4\u001b[0m     \u001b[0moutput_dir\u001b[0m\u001b[0;34m=\u001b[0m\u001b[0;34m\"./bert2bert_samsum\"\u001b[0m\u001b[0;34m,\u001b[0m\u001b[0;34m\u001b[0m\u001b[0;34m\u001b[0m\u001b[0m\n\u001b[1;32m      5\u001b[0m     \u001b[0mevaluation_strategy\u001b[0m\u001b[0;34m=\u001b[0m\u001b[0;34m\"steps\"\u001b[0m\u001b[0;34m,\u001b[0m\u001b[0;34m\u001b[0m\u001b[0;34m\u001b[0m\u001b[0m\n",
            "\u001b[0;31mTypeError\u001b[0m: TrainingArguments.__init__() got an unexpected keyword argument 'evaluation_strategy'"
          ]
        }
      ]
    },
    {
      "cell_type": "code",
      "source": [
        "print(transformers.__version__)"
      ],
      "metadata": {
        "id": "gDBZ5aW8Cme0"
      },
      "execution_count": null,
      "outputs": []
    },
    {
      "cell_type": "markdown",
      "source": [
        "## Evaluation"
      ],
      "metadata": {
        "id": "zu8n93ANRtKv"
      }
    },
    {
      "cell_type": "code",
      "source": [],
      "metadata": {
        "id": "IjLbZzBPRt8-"
      },
      "execution_count": null,
      "outputs": []
    },
    {
      "cell_type": "markdown",
      "source": [
        "# Conclusion"
      ],
      "metadata": {
        "id": "9dXfxx4WRw5H"
      }
    },
    {
      "cell_type": "code",
      "source": [],
      "metadata": {
        "id": "vEPycPbmRylw"
      },
      "execution_count": null,
      "outputs": []
    }
  ]
}